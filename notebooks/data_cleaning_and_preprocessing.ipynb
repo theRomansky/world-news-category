{
 "cells": [
  {
   "cell_type": "code",
   "id": "initial_id",
   "metadata": {
    "collapsed": true,
    "ExecuteTime": {
     "end_time": "2024-04-27T13:31:49.744320Z",
     "start_time": "2024-04-27T13:31:47.760031Z"
    }
   },
   "source": [
    "import pandas as pd\n",
    "import spacy\n",
    "import pickle\n",
    "from sklearn.preprocessing import LabelEncoder"
   ],
   "outputs": [],
   "execution_count": 1
  },
  {
   "metadata": {
    "ExecuteTime": {
     "end_time": "2024-04-27T13:31:49.985035Z",
     "start_time": "2024-04-27T13:31:49.745644Z"
    }
   },
   "cell_type": "code",
   "source": "df = pd.read_csv('../data/news.csv')",
   "id": "a386df171a7e076a",
   "outputs": [],
   "execution_count": 2
  },
  {
   "metadata": {
    "ExecuteTime": {
     "end_time": "2024-04-27T13:31:49.994566Z",
     "start_time": "2024-04-27T13:31:49.985802Z"
    }
   },
   "cell_type": "code",
   "source": "df = df.drop('date', axis=1)",
   "id": "79aca7084d4b2571",
   "outputs": [],
   "execution_count": 3
  },
  {
   "metadata": {
    "ExecuteTime": {
     "end_time": "2024-04-27T13:31:50.021586Z",
     "start_time": "2024-04-27T13:31:49.996144Z"
    }
   },
   "cell_type": "code",
   "source": "duplicated = df[df.duplicated(subset=['text'], keep=False)]",
   "id": "f21d9bd9e082086c",
   "outputs": [],
   "execution_count": 4
  },
  {
   "metadata": {
    "ExecuteTime": {
     "end_time": "2024-04-27T13:31:50.034053Z",
     "start_time": "2024-04-27T13:31:50.022473Z"
    }
   },
   "cell_type": "code",
   "source": "df = df.drop_duplicates(subset=['text'])",
   "id": "7f54aacbb394b66e",
   "outputs": [],
   "execution_count": 5
  },
  {
   "metadata": {
    "ExecuteTime": {
     "end_time": "2024-04-27T13:31:50.048538Z",
     "start_time": "2024-04-27T13:31:50.034867Z"
    }
   },
   "cell_type": "code",
   "source": "df = df.dropna(how='any')",
   "id": "2462f083620f4a5e",
   "outputs": [],
   "execution_count": 6
  },
  {
   "metadata": {
    "ExecuteTime": {
     "end_time": "2024-04-27T13:31:50.328361Z",
     "start_time": "2024-04-27T13:31:50.049535Z"
    }
   },
   "cell_type": "code",
   "source": "nlp = spacy.load('en_core_web_sm')",
   "id": "5615e2d672d28920",
   "outputs": [],
   "execution_count": 7
  },
  {
   "metadata": {
    "ExecuteTime": {
     "end_time": "2024-04-27T13:31:50.331015Z",
     "start_time": "2024-04-27T13:31:50.329095Z"
    }
   },
   "cell_type": "code",
   "source": [
    "def process_text(text):\n",
    "    doc = nlp(text)\n",
    "    return [token.lemma_ for token in doc if not token.is_punct]"
   ],
   "id": "ee5bbdeb85fbc5c8",
   "outputs": [],
   "execution_count": 8
  },
  {
   "metadata": {
    "ExecuteTime": {
     "end_time": "2024-04-27T13:43:03.024655Z",
     "start_time": "2024-04-27T13:31:50.331804Z"
    }
   },
   "cell_type": "code",
   "source": "processed_corpus = [process_text(text) for text in df['text']]",
   "id": "18bdd44df2e0f25e",
   "outputs": [],
   "execution_count": 9
  },
  {
   "metadata": {
    "ExecuteTime": {
     "end_time": "2024-04-27T13:43:03.038130Z",
     "start_time": "2024-04-27T13:43:03.026815Z"
    }
   },
   "cell_type": "code",
   "source": [
    "label_encoder = LabelEncoder()\n",
    "labels_encoded = label_encoder.fit_transform(df['label'])"
   ],
   "id": "92e2cb520435c5d9",
   "outputs": [],
   "execution_count": 10
  },
  {
   "metadata": {
    "ExecuteTime": {
     "end_time": "2024-04-27T13:43:03.432203Z",
     "start_time": "2024-04-27T13:43:03.038859Z"
    }
   },
   "cell_type": "code",
   "source": [
    "with open('../data/processed_corpus.pkl', 'wb') as f:\n",
    "    pickle.dump(processed_corpus, f)"
   ],
   "id": "87c35d8990b9438a",
   "outputs": [],
   "execution_count": 11
  },
  {
   "metadata": {
    "ExecuteTime": {
     "end_time": "2024-04-27T13:43:03.436936Z",
     "start_time": "2024-04-27T13:43:03.433096Z"
    }
   },
   "cell_type": "code",
   "source": [
    "with open('../data/labels.pkl', 'wb') as f:\n",
    "    pickle.dump(labels_encoded, f)"
   ],
   "id": "d330e59861330efb",
   "outputs": [],
   "execution_count": 12
  }
 ],
 "metadata": {
  "kernelspec": {
   "display_name": "Python 3",
   "language": "python",
   "name": "python3"
  },
  "language_info": {
   "codemirror_mode": {
    "name": "ipython",
    "version": 2
   },
   "file_extension": ".py",
   "mimetype": "text/x-python",
   "name": "python",
   "nbconvert_exporter": "python",
   "pygments_lexer": "ipython2",
   "version": "2.7.6"
  }
 },
 "nbformat": 4,
 "nbformat_minor": 5
}
