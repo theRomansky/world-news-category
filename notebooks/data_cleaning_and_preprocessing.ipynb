{
 "cells": [
  {
   "cell_type": "code",
   "id": "initial_id",
   "metadata": {
    "collapsed": true,
    "ExecuteTime": {
     "end_time": "2024-04-25T18:26:24.873144Z",
     "start_time": "2024-04-25T18:26:22.481523Z"
    }
   },
   "source": [
    "import pandas as pd\n",
    "import spacy\n",
    "import pickle\n",
    "from sklearn.preprocessing import LabelEncoder"
   ],
   "outputs": [],
   "execution_count": 18
  },
  {
   "metadata": {
    "ExecuteTime": {
     "end_time": "2024-04-25T17:58:29.696629Z",
     "start_time": "2024-04-25T17:58:29.454374Z"
    }
   },
   "cell_type": "code",
   "source": "df = pd.read_csv('../data/news.csv')",
   "id": "a386df171a7e076a",
   "outputs": [],
   "execution_count": 5
  },
  {
   "metadata": {
    "ExecuteTime": {
     "end_time": "2024-04-25T17:58:29.704035Z",
     "start_time": "2024-04-25T17:58:29.697719Z"
    }
   },
   "cell_type": "code",
   "source": "df = df.drop('date', axis=1)",
   "id": "79aca7084d4b2571",
   "outputs": [],
   "execution_count": 6
  },
  {
   "metadata": {
    "ExecuteTime": {
     "end_time": "2024-04-25T17:58:29.729248Z",
     "start_time": "2024-04-25T17:58:29.705702Z"
    }
   },
   "cell_type": "code",
   "source": "duplicated = df[df.duplicated(subset=['text'], keep=False)]",
   "id": "f21d9bd9e082086c",
   "outputs": [],
   "execution_count": 7
  },
  {
   "metadata": {
    "ExecuteTime": {
     "end_time": "2024-04-25T17:58:29.741958Z",
     "start_time": "2024-04-25T17:58:29.730125Z"
    }
   },
   "cell_type": "code",
   "source": "df = df.drop_duplicates(subset=['text'])",
   "id": "7f54aacbb394b66e",
   "outputs": [],
   "execution_count": 8
  },
  {
   "metadata": {
    "ExecuteTime": {
     "end_time": "2024-04-25T17:58:29.755405Z",
     "start_time": "2024-04-25T17:58:29.742954Z"
    }
   },
   "cell_type": "code",
   "source": "df = df.dropna(how='any')",
   "id": "2462f083620f4a5e",
   "outputs": [],
   "execution_count": 9
  },
  {
   "metadata": {
    "ExecuteTime": {
     "end_time": "2024-04-25T17:58:30.059248Z",
     "start_time": "2024-04-25T17:58:29.756523Z"
    }
   },
   "cell_type": "code",
   "source": "nlp = spacy.load('en_core_web_sm')",
   "id": "5615e2d672d28920",
   "outputs": [],
   "execution_count": 10
  },
  {
   "metadata": {
    "ExecuteTime": {
     "end_time": "2024-04-25T17:58:30.066057Z",
     "start_time": "2024-04-25T17:58:30.063680Z"
    }
   },
   "cell_type": "code",
   "source": [
    "def process_text(text):\n",
    "    doc = nlp(text)\n",
    "    return [token.lemma_ for token in doc if not token.is_stop and not token.is_punct]"
   ],
   "id": "ee5bbdeb85fbc5c8",
   "outputs": [],
   "execution_count": 11
  },
  {
   "metadata": {
    "ExecuteTime": {
     "end_time": "2024-04-24T17:20:26.397191Z",
     "start_time": "2024-04-24T17:09:30.309237Z"
    }
   },
   "cell_type": "code",
   "source": "processed_corpus = [process_text(text) for text in df['text']]",
   "id": "18bdd44df2e0f25e",
   "outputs": [],
   "execution_count": 10
  },
  {
   "metadata": {
    "ExecuteTime": {
     "end_time": "2024-04-25T18:30:32.965314Z",
     "start_time": "2024-04-25T18:30:32.947480Z"
    }
   },
   "cell_type": "code",
   "source": [
    "label_encoder = LabelEncoder()\n",
    "labels_encoded = label_encoder.fit_transform(df['label'])"
   ],
   "id": "92e2cb520435c5d9",
   "outputs": [],
   "execution_count": 27
  },
  {
   "metadata": {
    "ExecuteTime": {
     "end_time": "2024-04-24T17:20:30.561395Z",
     "start_time": "2024-04-24T17:20:30.288553Z"
    }
   },
   "cell_type": "code",
   "source": [
    "with open('../data/processed_corpus.pkl', 'wb') as f:\n",
    "    pickle.dump(processed_corpus, f)"
   ],
   "id": "87c35d8990b9438a",
   "outputs": [],
   "execution_count": 11
  },
  {
   "metadata": {
    "ExecuteTime": {
     "end_time": "2024-04-25T18:30:38.415787Z",
     "start_time": "2024-04-25T18:30:38.411544Z"
    }
   },
   "cell_type": "code",
   "source": [
    "with open('../data/labels.pkl', 'wb') as f:\n",
    "    pickle.dump(labels_encoded, f)"
   ],
   "id": "d330e59861330efb",
   "outputs": [],
   "execution_count": 28
  },
  {
   "metadata": {},
   "cell_type": "code",
   "outputs": [],
   "execution_count": null,
   "source": "",
   "id": "b89e018c69388fd5"
  }
 ],
 "metadata": {
  "kernelspec": {
   "display_name": "Python 3",
   "language": "python",
   "name": "python3"
  },
  "language_info": {
   "codemirror_mode": {
    "name": "ipython",
    "version": 2
   },
   "file_extension": ".py",
   "mimetype": "text/x-python",
   "name": "python",
   "nbconvert_exporter": "python",
   "pygments_lexer": "ipython2",
   "version": "2.7.6"
  }
 },
 "nbformat": 4,
 "nbformat_minor": 5
}
