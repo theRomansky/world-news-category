{
 "cells": [
  {
   "cell_type": "code",
   "id": "initial_id",
   "metadata": {
    "collapsed": true,
    "ExecuteTime": {
     "end_time": "2024-05-02T16:32:43.526467Z",
     "start_time": "2024-05-02T16:32:43.522976Z"
    }
   },
   "source": [
    "import matplotlib.pyplot as plt\n",
    "import seaborn as sns\n",
    "import pickle\n",
    "import datetime\n",
    "import torch\n",
    "import torch.nn as nn\n",
    "import torch.optim as optim\n",
    "from torch.utils.data import DataLoader, TensorDataset\n",
    "from sklearn.model_selection import train_test_split\n",
    "from sklearn.metrics import classification_report, confusion_matrix\n",
    "from sklearn.preprocessing import StandardScaler"
   ],
   "outputs": [],
   "execution_count": 133
  },
  {
   "metadata": {
    "ExecuteTime": {
     "end_time": "2024-05-02T16:32:43.556528Z",
     "start_time": "2024-05-02T16:32:43.544185Z"
    }
   },
   "cell_type": "code",
   "source": [
    "with open('../data/vectors.pkl', 'rb') as f:\n",
    "    data = pickle.load(f)"
   ],
   "id": "74a4f801dc57fee",
   "outputs": [],
   "execution_count": 134
  },
  {
   "metadata": {
    "ExecuteTime": {
     "end_time": "2024-05-02T16:32:43.560649Z",
     "start_time": "2024-05-02T16:32:43.557712Z"
    }
   },
   "cell_type": "code",
   "source": [
    "with open('../data/labels.pkl', 'rb') as f:\n",
    "    labels = pickle.load(f)"
   ],
   "id": "e921ae73f0d52e21",
   "outputs": [],
   "execution_count": 135
  },
  {
   "metadata": {
    "ExecuteTime": {
     "end_time": "2024-05-02T16:32:43.635208Z",
     "start_time": "2024-05-02T16:32:43.561765Z"
    }
   },
   "cell_type": "code",
   "source": [
    "scaler = StandardScaler()\n",
    "data = scaler.fit_transform(data)"
   ],
   "id": "a783a0e6ba577199",
   "outputs": [],
   "execution_count": 136
  },
  {
   "metadata": {
    "ExecuteTime": {
     "end_time": "2024-05-02T16:32:43.684752Z",
     "start_time": "2024-05-02T16:32:43.635888Z"
    }
   },
   "cell_type": "code",
   "source": [
    "train_data, test_val_data, train_labels, test_val_labels = train_test_split(data, labels, train_size=0.7, random_state=42, shuffle=True, stratify=labels)\n",
    "test_data, val_data, test_labels, val_labels = train_test_split(test_val_data, test_val_labels, test_size=0.5, random_state=42, shuffle=True, stratify=test_val_labels)"
   ],
   "id": "217fabdd5f7bbeef",
   "outputs": [],
   "execution_count": 137
  },
  {
   "metadata": {
    "ExecuteTime": {
     "end_time": "2024-05-02T16:32:43.688496Z",
     "start_time": "2024-05-02T16:32:43.686275Z"
    }
   },
   "cell_type": "code",
   "source": [
    "train_data_tensor = torch.from_numpy(train_data)\n",
    "val_data_tensor = torch.from_numpy(val_data)\n",
    "test_data_tensor = torch.from_numpy(test_data)\n",
    "train_labels_tensor = torch.from_numpy(train_labels)\n",
    "val_labels_tensor = torch.from_numpy(val_labels)\n",
    "test_labels_tensor = torch.from_numpy(test_labels)"
   ],
   "id": "7561aac49bfbbabf",
   "outputs": [],
   "execution_count": 138
  },
  {
   "metadata": {
    "ExecuteTime": {
     "end_time": "2024-05-02T16:32:43.692782Z",
     "start_time": "2024-05-02T16:32:43.689113Z"
    }
   },
   "cell_type": "code",
   "source": [
    "train_dataset = TensorDataset(train_data_tensor, train_labels_tensor)\n",
    "val_dataset = TensorDataset(val_data_tensor, val_labels_tensor)\n",
    "test_dataset = TensorDataset(test_data_tensor, test_labels_tensor)\n",
    "\n",
    "train_loader = DataLoader(train_dataset, batch_size=64, shuffle=True)\n",
    "val_loader = DataLoader(val_dataset, batch_size=64)\n",
    "test_loader = DataLoader(test_dataset, batch_size=64)"
   ],
   "id": "d6612c06c626140a",
   "outputs": [],
   "execution_count": 139
  },
  {
   "metadata": {
    "ExecuteTime": {
     "end_time": "2024-05-02T16:32:43.696996Z",
     "start_time": "2024-05-02T16:32:43.693444Z"
    }
   },
   "cell_type": "code",
   "source": [
    "class DenseNet(nn.Module):\n",
    "    def __init__(self, dropout=0.0):\n",
    "        super().__init__()\n",
    "        self.fc1 = nn.Linear(100, 256)\n",
    "        self.fc2 = nn.Linear(256, 128)\n",
    "        self.fc3 = nn.Linear(128, 64)\n",
    "        self.fc4 = nn.Linear(64, 32)\n",
    "        self.fc5 = nn.Linear(32, 3)\n",
    "        self.act = nn.ReLU()\n",
    "        self.dropout = nn.Dropout(p=dropout)\n",
    "        \n",
    "    def forward(self, x):\n",
    "        out = self.fc1(x)\n",
    "        out = self.act(out)\n",
    "        out = self.fc2(out)\n",
    "        out = self.act(out)\n",
    "        out = self.fc3(out)\n",
    "        out = self.act(out)\n",
    "        out = self.fc4(out)\n",
    "        out = self.act(out)\n",
    "        out = self.fc5(out)\n",
    "        \n",
    "        return out"
   ],
   "id": "3275a9640601165f",
   "outputs": [],
   "execution_count": 140
  },
  {
   "metadata": {
    "ExecuteTime": {
     "end_time": "2024-05-02T16:32:43.699701Z",
     "start_time": "2024-05-02T16:32:43.697774Z"
    }
   },
   "cell_type": "code",
   "source": "device = torch.device(\"cuda\" if torch.cuda.is_available() else \"cpu\")",
   "id": "83b2b8d494f9242c",
   "outputs": [],
   "execution_count": 141
  },
  {
   "metadata": {
    "ExecuteTime": {
     "end_time": "2024-05-02T16:32:43.704351Z",
     "start_time": "2024-05-02T16:32:43.700529Z"
    }
   },
   "cell_type": "code",
   "source": [
    "def training_loop(n_epochs, model, optimizer, criterion, train_loader, val_loader):\n",
    "    train_losses = []\n",
    "    val_losses = []\n",
    "    for epoch in range(n_epochs):\n",
    "        loss_train = 0.0\n",
    "        for data, labels in train_loader:\n",
    "            data, labels = data.to(device), labels.to(device)\n",
    "            optimizer.zero_grad()\n",
    "            outputs = model(data)\n",
    "            loss = criterion(outputs, labels)\n",
    "            loss.backward()\n",
    "            optimizer.step()\n",
    "            loss_train += loss.item()\n",
    "        \n",
    "        avg_loss_train = loss_train / len(train_loader)\n",
    "        train_losses.append(avg_loss_train)\n",
    "        \n",
    "        loss_val = 0.0\n",
    "        with torch.no_grad():\n",
    "            for val_data, val_labels in val_loader:\n",
    "                val_data, val_labels = val_data.to(device), val_labels.to(device)\n",
    "                val_outputs = model(val_data)\n",
    "                loss_val += criterion(val_outputs, val_labels).item()\n",
    "            avg_loss_val = loss_val / len(val_loader)\n",
    "            val_losses.append(avg_loss_val)\n",
    "\n",
    "        print('{} Epoch {}, Training loss: {:.4f}'.format(datetime.datetime.now(), epoch + 1, avg_loss_train))\n",
    "        print('{} Epoch {}, Validation loss: {:.4f}'.format(datetime.datetime.now(), epoch + 1, avg_loss_val))\n",
    "\n",
    "    return train_losses, val_losses"
   ],
   "id": "e42ec579f990f412",
   "outputs": [],
   "execution_count": 142
  },
  {
   "metadata": {
    "ExecuteTime": {
     "end_time": "2024-05-02T16:32:43.708744Z",
     "start_time": "2024-05-02T16:32:43.706401Z"
    }
   },
   "cell_type": "code",
   "source": [
    "def plot_losses(train_losses, val_losses):\n",
    "    plt.plot(train_losses, label='Training loss')\n",
    "    plt.plot(val_losses, label='Validation loss')\n",
    "    plt.xlabel('Epochs')\n",
    "    plt.ylabel('Loss')\n",
    "    plt.title('Training and Validation Loss')\n",
    "    plt.legend()\n",
    "    plt.show()"
   ],
   "id": "448ec2df17e27a39",
   "outputs": [],
   "execution_count": 143
  },
  {
   "metadata": {
    "ExecuteTime": {
     "end_time": "2024-05-02T16:32:43.712552Z",
     "start_time": "2024-05-02T16:32:43.709668Z"
    }
   },
   "cell_type": "code",
   "source": [
    "def evaluate_model(model, data_loader):\n",
    "    loss = 0.0\n",
    "    correct = 0.0\n",
    "    total = 0.0\n",
    "    \n",
    "    model.eval()\n",
    "    with torch.no_grad():\n",
    "        for data, labels in data_loader:\n",
    "            data, labels = data.to(device), labels.to(device)\n",
    "            output = model(data)\n",
    "            loss += criterion(output, labels).item()\n",
    "            _, predicted = torch.max(output.data, 1)\n",
    "            total += labels.size(0)\n",
    "            correct += (predicted == labels).sum().item()\n",
    "\n",
    "    avg_loss = loss / len(data_loader)\n",
    "    accuracy = 100 * correct / total\n",
    "\n",
    "    return avg_loss, accuracy"
   ],
   "id": "6bc78d801e7c4c7",
   "outputs": [],
   "execution_count": 144
  },
  {
   "metadata": {
    "ExecuteTime": {
     "end_time": "2024-05-02T16:32:43.717469Z",
     "start_time": "2024-05-02T16:32:43.713526Z"
    }
   },
   "cell_type": "code",
   "source": [
    "n_epochs = 10\n",
    "learning_rate = 0.0001\n",
    "\n",
    "model = DenseNet(dropout=0.5)\n",
    "model = model.to(device)\n",
    "criterion = nn.CrossEntropyLoss()\n",
    "optimizer = optim.Adam(model.parameters(), lr=learning_rate)"
   ],
   "id": "67fb3bb412025b19",
   "outputs": [],
   "execution_count": 145
  },
  {
   "metadata": {
    "ExecuteTime": {
     "end_time": "2024-05-02T16:32:58.997051Z",
     "start_time": "2024-05-02T16:32:43.718121Z"
    }
   },
   "cell_type": "code",
   "source": "train_losses, val_losses = training_loop(n_epochs, model, optimizer, criterion, train_loader, val_loader)",
   "id": "ac62b0e0343d9497",
   "outputs": [
    {
     "name": "stdout",
     "output_type": "stream",
     "text": [
      "2024-05-02 23:32:45.417064 Epoch 1, Training loss: 0.6609\n",
      "2024-05-02 23:32:45.417178 Epoch 1, Validation loss: 0.5745\n",
      "2024-05-02 23:32:46.899610 Epoch 2, Training loss: 0.5540\n",
      "2024-05-02 23:32:46.899715 Epoch 2, Validation loss: 0.5584\n",
      "2024-05-02 23:32:48.567524 Epoch 3, Training loss: 0.5377\n",
      "2024-05-02 23:32:48.567628 Epoch 3, Validation loss: 0.5485\n",
      "2024-05-02 23:32:50.101468 Epoch 4, Training loss: 0.5241\n",
      "2024-05-02 23:32:50.101574 Epoch 4, Validation loss: 0.5399\n",
      "2024-05-02 23:32:51.586173 Epoch 5, Training loss: 0.5112\n",
      "2024-05-02 23:32:51.586278 Epoch 5, Validation loss: 0.5347\n",
      "2024-05-02 23:32:53.056410 Epoch 6, Training loss: 0.4995\n",
      "2024-05-02 23:32:53.056512 Epoch 6, Validation loss: 0.5315\n",
      "2024-05-02 23:32:54.531988 Epoch 7, Training loss: 0.4885\n",
      "2024-05-02 23:32:54.532121 Epoch 7, Validation loss: 0.5281\n",
      "2024-05-02 23:32:56.020907 Epoch 8, Training loss: 0.4781\n",
      "2024-05-02 23:32:56.021005 Epoch 8, Validation loss: 0.5324\n",
      "2024-05-02 23:32:57.503023 Epoch 9, Training loss: 0.4688\n",
      "2024-05-02 23:32:57.503131 Epoch 9, Validation loss: 0.5258\n",
      "2024-05-02 23:32:58.995382 Epoch 10, Training loss: 0.4598\n",
      "2024-05-02 23:32:58.995486 Epoch 10, Validation loss: 0.5289\n"
     ]
    }
   ],
   "execution_count": 146
  },
  {
   "metadata": {
    "ExecuteTime": {
     "end_time": "2024-05-02T16:32:59.103533Z",
     "start_time": "2024-05-02T16:32:58.998214Z"
    }
   },
   "cell_type": "code",
   "source": "plot_losses(train_losses, val_losses)",
   "id": "89ae06bd0320ae56",
   "outputs": [
    {
     "data": {
      "text/plain": [
       "<Figure size 640x480 with 1 Axes>"
      ],
      "image/png": "[encoded data removed]"
     },
     "metadata": {},
     "output_type": "display_data"
    }
   ],
   "execution_count": 147
  },
  {
   "metadata": {
    "ExecuteTime": {
     "end_time": "2024-05-02T16:32:59.225256Z",
     "start_time": "2024-05-02T16:32:59.104642Z"
    }
   },
   "cell_type": "code",
   "source": "evaluate_model(model, val_loader)",
   "id": "bb2ba1991a1eba74",
   "outputs": [
    {
     "data": {
      "text/plain": [
       "(0.5289427685002758, 79.0482308227611)"
      ]
     },
     "execution_count": 148,
     "metadata": {},
     "output_type": "execute_result"
    }
   ],
   "execution_count": 148
  },
  {
   "metadata": {
    "ExecuteTime": {
     "end_time": "2024-05-02T16:32:59.347671Z",
     "start_time": "2024-05-02T16:32:59.225983Z"
    }
   },
   "cell_type": "code",
   "source": [
    "model.eval()\n",
    "predictions = []\n",
    "with torch.no_grad():\n",
    "    for data, labels in test_loader:\n",
    "        data, labels = data.to(device), labels.to(device)\n",
    "        outputs = model(data)\n",
    "        predictions.extend(outputs.tolist())\n",
    "\n",
    "probs = torch.tensor(predictions)\n",
    "predicted_classes = torch.argmax(probs, dim=1)"
   ],
   "id": "c05f3fac62ee6924",
   "outputs": [],
   "execution_count": 149
  },
  {
   "metadata": {
    "ExecuteTime": {
     "end_time": "2024-05-02T16:32:59.368566Z",
     "start_time": "2024-05-02T16:32:59.348499Z"
    }
   },
   "cell_type": "code",
   "source": "print(classification_report(predicted_classes, test_labels))",
   "id": "892966b79aa5c991",
   "outputs": [
    {
     "name": "stdout",
     "output_type": "stream",
     "text": [
      "              precision    recall  f1-score   support\n",
      "\n",
      "           0       0.82      0.83      0.83      7808\n",
      "           1       0.84      0.78      0.81      6214\n",
      "           2       0.68      0.73      0.70      4658\n",
      "\n",
      "    accuracy                           0.79     18680\n",
      "   macro avg       0.78      0.78      0.78     18680\n",
      "weighted avg       0.79      0.79      0.79     18680\n",
      "\n"
     ]
    }
   ],
   "execution_count": 150
  },
  {
   "metadata": {
    "ExecuteTime": {
     "end_time": "2024-05-02T16:32:59.470300Z",
     "start_time": "2024-05-02T16:32:59.369470Z"
    }
   },
   "cell_type": "code",
   "source": [
    "conf_matrix = confusion_matrix(test_labels, predicted_classes)\n",
    "plt.figure(figsize=(8, 6))\n",
    "sns.heatmap(conf_matrix, annot=True, fmt='d', cmap='Blues')\n",
    "plt.xlabel('Predicted label')\n",
    "plt.ylabel('True label')\n",
    "plt.title('Confusion Matrix')\n",
    "plt.show()"
   ],
   "id": "8404fcb43dfade8d",
   "outputs": [
    {
     "data": {
      "text/plain": [
       "<Figure size 800x600 with 2 Axes>"
      ],
      "image/png": "[encoded data removed]"
     },
     "metadata": {},
     "output_type": "display_data"
    }
   ],
   "execution_count": 151
  },
  {
   "metadata": {
    "ExecuteTime": {
     "end_time": "2024-05-02T16:32:59.473359Z",
     "start_time": "2024-05-02T16:32:59.471473Z"
    }
   },
   "cell_type": "code",
   "source": "",
   "id": "b52ec99d89339df5",
   "outputs": [],
   "execution_count": 151
  }
 ],
 "metadata": {
  "kernelspec": {
   "display_name": "Python 3",
   "language": "python",
   "name": "python3"
  },
  "language_info": {
   "codemirror_mode": {
    "name": "ipython",
    "version": 2
   },
   "file_extension": ".py",
   "mimetype": "text/x-python",
   "name": "python",
   "nbconvert_exporter": "python",
   "pygments_lexer": "ipython2",
   "version": "2.7.6"
  }
 },
 "nbformat": 4,
 "nbformat_minor": 5
}
