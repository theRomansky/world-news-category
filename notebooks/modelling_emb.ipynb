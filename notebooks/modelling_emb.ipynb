{
 "cells": [
  {
   "cell_type": "code",
   "id": "initial_id",
   "metadata": {
    "collapsed": true,
    "ExecuteTime": {
     "end_time": "2024-05-08T16:54:32.247020Z",
     "start_time": "2024-05-08T16:54:31.095462Z"
    }
   },
   "source": [
    "import matplotlib.pyplot as plt\n",
    "import seaborn as sns\n",
    "import pickle\n",
    "import datetime\n",
    "import torch\n",
    "import torch.nn as nn\n",
    "import torch.optim as optim\n",
    "from torch.utils.data import DataLoader, TensorDataset\n",
    "from sklearn.model_selection import train_test_split\n",
    "from sklearn.metrics import classification_report, confusion_matrix\n",
    "from sklearn.preprocessing import StandardScaler\n",
    "from sklearn.linear_model import LogisticRegression"
   ],
   "outputs": [],
   "execution_count": 1
  },
  {
   "metadata": {
    "ExecuteTime": {
     "end_time": "2024-05-08T16:54:32.258441Z",
     "start_time": "2024-05-08T16:54:32.247784Z"
    }
   },
   "cell_type": "code",
   "source": [
    "# Load the vectors from a pickle file\n",
    "with open('../data/vectors.pkl', 'rb') as f:\n",
    "    data = pickle.load(f)"
   ],
   "id": "74a4f801dc57fee",
   "outputs": [],
   "execution_count": 2
  },
  {
   "metadata": {
    "ExecuteTime": {
     "end_time": "2024-05-08T16:54:32.262177Z",
     "start_time": "2024-05-08T16:54:32.259478Z"
    }
   },
   "cell_type": "code",
   "source": [
    "# Load the labels from a pickle file\n",
    "with open('../data/labels.pkl', 'rb') as f:\n",
    "    labels = pickle.load(f)"
   ],
   "id": "e921ae73f0d52e21",
   "outputs": [],
   "execution_count": 3
  },
  {
   "metadata": {
    "ExecuteTime": {
     "end_time": "2024-05-08T16:54:32.335819Z",
     "start_time": "2024-05-08T16:54:32.262864Z"
    }
   },
   "cell_type": "code",
   "source": [
    "# Standardize the features by scaling\n",
    "scaler = StandardScaler()\n",
    "data = scaler.fit_transform(data)"
   ],
   "id": "a783a0e6ba577199",
   "outputs": [],
   "execution_count": 4
  },
  {
   "metadata": {
    "ExecuteTime": {
     "end_time": "2024-05-08T16:54:32.382810Z",
     "start_time": "2024-05-08T16:54:32.336707Z"
    }
   },
   "cell_type": "code",
   "source": [
    "# Split the data into training, validation, and test sets\n",
    "train_data, test_val_data, train_labels, test_val_labels = train_test_split(data, labels, train_size=0.7, random_state=42, shuffle=True, stratify=labels)\n",
    "test_data, val_data, test_labels, val_labels = train_test_split(test_val_data, test_val_labels, test_size=0.5, random_state=42, shuffle=True, stratify=test_val_labels)"
   ],
   "id": "217fabdd5f7bbeef",
   "outputs": [],
   "execution_count": 5
  },
  {
   "metadata": {
    "ExecuteTime": {
     "end_time": "2024-05-08T16:54:32.388155Z",
     "start_time": "2024-05-08T16:54:32.384086Z"
    }
   },
   "cell_type": "code",
   "source": [
    "# Convert numpy arrays to PyTorch tensors\n",
    "train_data_tensor = torch.from_numpy(train_data)\n",
    "val_data_tensor = torch.from_numpy(val_data)\n",
    "test_data_tensor = torch.from_numpy(test_data)\n",
    "train_labels_tensor = torch.from_numpy(train_labels)\n",
    "val_labels_tensor = torch.from_numpy(val_labels)\n",
    "test_labels_tensor = torch.from_numpy(test_labels)"
   ],
   "id": "7561aac49bfbbabf",
   "outputs": [],
   "execution_count": 6
  },
  {
   "metadata": {
    "ExecuteTime": {
     "end_time": "2024-05-08T16:54:32.392Z",
     "start_time": "2024-05-08T16:54:32.388997Z"
    }
   },
   "cell_type": "code",
   "source": [
    "def create_dataloader(data_tensor, labels_tensor, batch_size, shuffle=False):\n",
    "    dataset = TensorDataset(data_tensor, labels_tensor)\n",
    "    return DataLoader(dataset, batch_size=batch_size, shuffle=shuffle)\n",
    "\n",
    "\n",
    "# Create PyTorch DataLoader objects for training, validation, and testing\n",
    "train_loader = create_dataloader(train_data_tensor, train_labels_tensor, batch_size=64, shuffle=True)\n",
    "val_loader = create_dataloader(val_data_tensor, val_labels_tensor, batch_size=64)\n",
    "test_loader = create_dataloader(test_data_tensor, test_labels_tensor, batch_size=64)"
   ],
   "id": "d6612c06c626140a",
   "outputs": [],
   "execution_count": 7
  },
  {
   "metadata": {
    "ExecuteTime": {
     "end_time": "2024-05-08T16:54:32.396854Z",
     "start_time": "2024-05-08T16:54:32.393014Z"
    }
   },
   "cell_type": "code",
   "source": [
    "# Define a feedforward neural network model\n",
    "class DenseNet(nn.Module):\n",
    "    def __init__(self, dropout=0.0):\n",
    "        super().__init__()\n",
    "        # Define fully connected layers\n",
    "        self.fc1 = nn.Linear(100, 256)\n",
    "        self.fc2 = nn.Linear(256, 128)\n",
    "        self.fc3 = nn.Linear(128, 64)\n",
    "        self.fc4 = nn.Linear(64, 32)\n",
    "        self.fc5 = nn.Linear(32, 3)\n",
    "        # Define activation function\n",
    "        self.act = nn.ReLU()\n",
    "        # Define dropout layer\n",
    "        self.dropout = nn.Dropout(p=dropout)\n",
    "\n",
    "    def forward(self, x):\n",
    "        # Forward pass through the network\n",
    "        out = self.fc1(x)\n",
    "        out = self.act(out)\n",
    "        out = self.fc2(out)\n",
    "        out = self.act(out)\n",
    "        out = self.fc3(out)\n",
    "        out = self.act(out)\n",
    "        out = self.fc4(out)\n",
    "        out = self.act(out)\n",
    "        out = self.fc5(out)\n",
    "\n",
    "        return out"
   ],
   "id": "3275a9640601165f",
   "outputs": [],
   "execution_count": 8
  },
  {
   "metadata": {
    "ExecuteTime": {
     "end_time": "2024-05-08T16:54:32.399546Z",
     "start_time": "2024-05-08T16:54:32.397600Z"
    }
   },
   "cell_type": "code",
   "source": [
    "# Check if GPU is available, otherwise use CPU\n",
    "device = torch.device(\"cuda\" if torch.cuda.is_available() else \"cpu\")"
   ],
   "id": "83b2b8d494f9242c",
   "outputs": [],
   "execution_count": 9
  },
  {
   "metadata": {
    "ExecuteTime": {
     "end_time": "2024-05-08T16:54:32.406369Z",
     "start_time": "2024-05-08T16:54:32.402125Z"
    }
   },
   "cell_type": "code",
   "source": [
    "def training_loop(n_epochs, model, optimizer, criterion, train_loader, val_loader):\n",
    "    \"\"\"\n",
    "    Function for training the neural network model.\n",
    "\n",
    "    Args:\n",
    "        n_epochs (int): Number of epochs for training.\n",
    "        model (torch.nn.Module): Neural network model.\n",
    "        optimizer (torch.optim.Optimizer): Optimizer for updating model parameters.\n",
    "        criterion: Loss function.\n",
    "        train_loader (torch.utils.data.DataLoader): DataLoader for training data.\n",
    "        val_loader (torch.utils.data.DataLoader): DataLoader for validation data.\n",
    "\n",
    "    Returns:\n",
    "        train_losses (list): List of training losses for each epoch.\n",
    "        val_losses (list): List of validation losses for each epoch.\n",
    "    \"\"\"\n",
    "    train_losses = []\n",
    "    val_losses = []\n",
    "    for epoch in range(n_epochs):\n",
    "        loss_train = 0.0\n",
    "        for data, labels in train_loader:\n",
    "            data, labels = data.to(device), labels.to(device)\n",
    "            optimizer.zero_grad()\n",
    "            outputs = model(data)\n",
    "            loss = criterion(outputs, labels)\n",
    "            loss.backward()\n",
    "            optimizer.step()\n",
    "            loss_train += loss.item()\n",
    "\n",
    "        avg_loss_train = loss_train / len(train_loader)\n",
    "        train_losses.append(avg_loss_train)\n",
    "\n",
    "        loss_val = 0.0\n",
    "        with torch.no_grad():\n",
    "            for val_data, val_labels in val_loader:\n",
    "                val_data, val_labels = val_data.to(device), val_labels.to(device)\n",
    "                val_outputs = model(val_data)\n",
    "                loss_val += criterion(val_outputs, val_labels).item()\n",
    "            avg_loss_val = loss_val / len(val_loader)\n",
    "            val_losses.append(avg_loss_val)\n",
    "\n",
    "        print('{} Epoch {}, Training loss: {:.4f}'.format(datetime.datetime.now(), epoch + 1, avg_loss_train))\n",
    "        print('{} Epoch {}, Validation loss: {:.4f}'.format(datetime.datetime.now(), epoch + 1, avg_loss_val))\n",
    "\n",
    "    return train_losses, val_losses"
   ],
   "id": "e42ec579f990f412",
   "outputs": [],
   "execution_count": 10
  },
  {
   "metadata": {
    "ExecuteTime": {
     "end_time": "2024-05-08T16:54:32.409697Z",
     "start_time": "2024-05-08T16:54:32.407417Z"
    }
   },
   "cell_type": "code",
   "source": [
    "def plot_losses(train_losses, val_losses):\n",
    "    \"\"\"Plot training and validation losses.\"\"\"\n",
    "    plt.plot(train_losses, label='Training loss')\n",
    "    plt.plot(val_losses, label='Validation loss')\n",
    "    plt.xlabel('Epochs')\n",
    "    plt.ylabel('Loss')\n",
    "    plt.title('Training and Validation Loss')\n",
    "    plt.legend()\n",
    "    plt.show()"
   ],
   "id": "448ec2df17e27a39",
   "outputs": [],
   "execution_count": 11
  },
  {
   "metadata": {
    "ExecuteTime": {
     "end_time": "2024-05-08T16:54:32.413400Z",
     "start_time": "2024-05-08T16:54:32.410449Z"
    }
   },
   "cell_type": "code",
   "source": [
    "# Evaluate the model on the given data loader\n",
    "def evaluate_model(model, data_loader):\n",
    "    loss = 0.0\n",
    "    correct = 0.0\n",
    "    total = 0.0\n",
    "\n",
    "    model.eval()\n",
    "    with torch.no_grad():\n",
    "        for data, labels in data_loader:\n",
    "            data, labels = data.to(device), labels.to(device)\n",
    "            output = model(data)\n",
    "            loss += criterion(output, labels).item()\n",
    "            _, predicted = torch.max(output.data, 1)\n",
    "            total += labels.size(0)\n",
    "            correct += (predicted == labels).sum().item()\n",
    "\n",
    "    avg_loss = loss / len(data_loader)\n",
    "    accuracy = 100 * correct / total\n",
    "\n",
    "    return avg_loss, accuracy"
   ],
   "id": "6bc78d801e7c4c7",
   "outputs": [],
   "execution_count": 12
  },
  {
   "metadata": {
    "ExecuteTime": {
     "end_time": "2024-05-08T16:54:32.875427Z",
     "start_time": "2024-05-08T16:54:32.414123Z"
    }
   },
   "cell_type": "code",
   "source": [
    "n_epochs = 10\n",
    "learning_rate = 0.0001\n",
    "\n",
    "# Instantiate the DenseNet model with dropout\n",
    "model = DenseNet(dropout=0.5)\n",
    "# Move the model to the appropriate device (CPU or GPU)\n",
    "model = model.to(device)\n",
    "# Define the loss function (cross-entropy)\n",
    "criterion = nn.CrossEntropyLoss()\n",
    "# Define the optimizer (Adam) and specify the learning rate\n",
    "optimizer = optim.Adam(model.parameters(), lr=learning_rate)"
   ],
   "id": "67fb3bb412025b19",
   "outputs": [],
   "execution_count": 13
  },
  {
   "metadata": {
    "jupyter": {
     "is_executing": true
    },
    "ExecuteTime": {
     "start_time": "2024-05-08T16:54:32.876223Z"
    }
   },
   "cell_type": "code",
   "source": "train_losses, val_losses = training_loop(n_epochs, model, optimizer, criterion, train_loader, val_loader)",
   "id": "ac62b0e0343d9497",
   "outputs": [
    {
     "name": "stdout",
     "output_type": "stream",
     "text": [
      "2024-05-08 23:54:34.446381 Epoch 1, Training loss: 0.6600\n",
      "2024-05-08 23:54:34.446519 Epoch 1, Validation loss: 0.5777\n"
     ]
    }
   ],
   "execution_count": null
  },
  {
   "metadata": {
    "jupyter": {
     "is_executing": true
    }
   },
   "cell_type": "code",
   "source": "plot_losses(train_losses, val_losses)",
   "id": "89ae06bd0320ae56",
   "outputs": [],
   "execution_count": null
  },
  {
   "metadata": {
    "jupyter": {
     "is_executing": true
    }
   },
   "cell_type": "code",
   "source": "evaluate_model(model, val_loader)",
   "id": "bb2ba1991a1eba74",
   "outputs": [],
   "execution_count": null
  },
  {
   "metadata": {
    "jupyter": {
     "is_executing": true
    }
   },
   "cell_type": "code",
   "source": [
    "# Set the model to evaluation mode\n",
    "model.eval()\n",
    "\n",
    "# Initialize an empty list to store predictions\n",
    "predictions = []\n",
    "\n",
    "# Disable gradient computation since we are in evaluation mode\n",
    "with torch.no_grad():\n",
    "    # Iterate over the test data loader\n",
    "    for data, labels in test_loader:\n",
    "        # Move the data and labels to the appropriate device\n",
    "        data, labels = data.to(device), labels.to(device)\n",
    "        # Forward pass through the model\n",
    "        outputs = model(data)\n",
    "        # Append the predictions to the list\n",
    "        predictions.extend(outputs.tolist())\n",
    "\n",
    "# Convert the predictions list to a PyTorch tensor\n",
    "probs = torch.tensor(predictions)\n",
    "# Determine the predicted classes by taking the argmax along the appropriate dimension\n",
    "predicted_classes = torch.argmax(probs, dim=1)"
   ],
   "id": "c05f3fac62ee6924",
   "outputs": [],
   "execution_count": null
  },
  {
   "metadata": {
    "jupyter": {
     "is_executing": true
    }
   },
   "cell_type": "code",
   "source": "print(classification_report(predicted_classes, test_labels))",
   "id": "892966b79aa5c991",
   "outputs": [],
   "execution_count": null
  },
  {
   "metadata": {
    "jupyter": {
     "is_executing": true
    }
   },
   "cell_type": "code",
   "source": [
    "# Compute the confusion matrix\n",
    "conf_matrix = confusion_matrix(test_labels, predicted_classes)\n",
    "\n",
    "# Create a heatmap visualization of the confusion matrix\n",
    "plt.figure(figsize=(8, 6))\n",
    "sns.heatmap(conf_matrix, annot=True, fmt='d', cmap='Blues')\n",
    "plt.xlabel('Predicted label')\n",
    "plt.ylabel('True label')\n",
    "plt.title('Confusion Matrix')\n",
    "plt.show()"
   ],
   "id": "8404fcb43dfade8d",
   "outputs": [],
   "execution_count": null
  },
  {
   "metadata": {},
   "cell_type": "markdown",
   "source": "## Logistic Regression",
   "id": "9c1a89e60d7f6014"
  },
  {
   "metadata": {
    "jupyter": {
     "is_executing": true
    }
   },
   "cell_type": "code",
   "source": [
    "# Initialize and train a logistic regression classifier\n",
    "logreg = LogisticRegression()\n",
    "logreg.fit(train_data, train_labels)"
   ],
   "id": "e5e44274cdaabe33",
   "outputs": [],
   "execution_count": null
  },
  {
   "metadata": {
    "jupyter": {
     "is_executing": true
    }
   },
   "cell_type": "code",
   "source": [
    "# Make predictions using the trained logistic regression classifier\n",
    "logreg_predictions = logreg.predict(test_data)"
   ],
   "id": "d9c028e5fdddb669",
   "outputs": [],
   "execution_count": null
  },
  {
   "metadata": {
    "jupyter": {
     "is_executing": true
    }
   },
   "cell_type": "code",
   "source": "print(classification_report(test_labels, logreg_predictions))",
   "id": "50f66b74c58a9e27",
   "outputs": [],
   "execution_count": null
  },
  {
   "metadata": {
    "jupyter": {
     "is_executing": true
    }
   },
   "cell_type": "code",
   "source": [
    "# Generate and display the confusion matrix for logistic regression predictions\n",
    "conf_matrix = confusion_matrix(test_labels, logreg_predictions)\n",
    "plt.figure(figsize=(8, 6))\n",
    "sns.heatmap(conf_matrix, annot=True, fmt='d', cmap='Blues')\n",
    "plt.xlabel('Predicted label')\n",
    "plt.ylabel('True label')\n",
    "plt.title('Confusion Matrix')\n",
    "plt.show()"
   ],
   "id": "903b9391fb52d85",
   "outputs": [],
   "execution_count": null
  }
 ],
 "metadata": {
  "kernelspec": {
   "display_name": "Python 3",
   "language": "python",
   "name": "python3"
  },
  "language_info": {
   "codemirror_mode": {
    "name": "ipython",
    "version": 2
   },
   "file_extension": ".py",
   "mimetype": "text/x-python",
   "name": "python",
   "nbconvert_exporter": "python",
   "pygments_lexer": "ipython2",
   "version": "2.7.6"
  }
 },
 "nbformat": 4,
 "nbformat_minor": 5
}
