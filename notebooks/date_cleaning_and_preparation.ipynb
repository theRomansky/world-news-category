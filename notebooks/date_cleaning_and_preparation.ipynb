{
 "cells": [
  {
   "cell_type": "code",
   "id": "initial_id",
   "metadata": {
    "collapsed": true,
    "ExecuteTime": {
     "end_time": "2024-04-24T16:47:59.936955Z",
     "start_time": "2024-04-24T16:47:59.417648Z"
    }
   },
   "source": [
    "import pandas as pd\n",
    "import spacy\n",
    "import pickle"
   ],
   "outputs": [],
   "execution_count": 1
  },
  {
   "metadata": {
    "ExecuteTime": {
     "end_time": "2024-04-24T16:48:00.173401Z",
     "start_time": "2024-04-24T16:47:59.938137Z"
    }
   },
   "cell_type": "code",
   "source": [
    "df = pd.read_csv('../data/news.csv')\n",
    "df"
   ],
   "id": "a386df171a7e076a",
   "outputs": [
    {
     "data": {
      "text/plain": [
       "                       date  \\\n",
       "0       2018-01-04T15:35:56   \n",
       "1       2018-01-04T15:35:57   \n",
       "2       2018-01-04T17:00:49   \n",
       "3       2018-01-04T17:00:50   \n",
       "4       2018-01-04T18:01:34   \n",
       "...                     ...   \n",
       "127388  2024-03-30T21:54:34   \n",
       "127389  2024-03-30T22:54:55   \n",
       "127390  2024-03-30T23:24:43   \n",
       "127391  2024-03-31T00:59:36   \n",
       "127392  2024-03-31T01:59:20   \n",
       "\n",
       "                                                     text       label  \n",
       "0       Farmers will get subsidies for turning fields ...     politic  \n",
       "1       Vanuatu bans non-biodegradable plastic to prot...     politic  \n",
       "2       Ex-British PM Tony Blair ups calls for Labour ...     politic  \n",
       "3       UK's Tony Blair argues voters deserve another ...     politic  \n",
       "4       Germany had so much renewable energy over Chri...     politic  \n",
       "...                                                   ...         ...  \n",
       "127388  Wind generates record annual percentage of UK ...  technology  \n",
       "127389  HP ends ties with Russia, shutting down its Ru...  technology  \n",
       "127390  AT&T confirms data for 73 million customers le...  technology  \n",
       "127391  Missouri AG sues Media Matters as Republicans ...  technology  \n",
       "127392  Breakdown of Safety Is Not Unique to Boeing — ...  technology  \n",
       "\n",
       "[127393 rows x 3 columns]"
      ],
      "text/html": [
       "<div>\n",
       "<style scoped>\n",
       "    .dataframe tbody tr th:only-of-type {\n",
       "        vertical-align: middle;\n",
       "    }\n",
       "\n",
       "    .dataframe tbody tr th {\n",
       "        vertical-align: top;\n",
       "    }\n",
       "\n",
       "    .dataframe thead th {\n",
       "        text-align: right;\n",
       "    }\n",
       "</style>\n",
       "<table border=\"1\" class=\"dataframe\">\n",
       "  <thead>\n",
       "    <tr style=\"text-align: right;\">\n",
       "      <th></th>\n",
       "      <th>date</th>\n",
       "      <th>text</th>\n",
       "      <th>label</th>\n",
       "    </tr>\n",
       "  </thead>\n",
       "  <tbody>\n",
       "    <tr>\n",
       "      <th>0</th>\n",
       "      <td>2018-01-04T15:35:56</td>\n",
       "      <td>Farmers will get subsidies for turning fields ...</td>\n",
       "      <td>politic</td>\n",
       "    </tr>\n",
       "    <tr>\n",
       "      <th>1</th>\n",
       "      <td>2018-01-04T15:35:57</td>\n",
       "      <td>Vanuatu bans non-biodegradable plastic to prot...</td>\n",
       "      <td>politic</td>\n",
       "    </tr>\n",
       "    <tr>\n",
       "      <th>2</th>\n",
       "      <td>2018-01-04T17:00:49</td>\n",
       "      <td>Ex-British PM Tony Blair ups calls for Labour ...</td>\n",
       "      <td>politic</td>\n",
       "    </tr>\n",
       "    <tr>\n",
       "      <th>3</th>\n",
       "      <td>2018-01-04T17:00:50</td>\n",
       "      <td>UK's Tony Blair argues voters deserve another ...</td>\n",
       "      <td>politic</td>\n",
       "    </tr>\n",
       "    <tr>\n",
       "      <th>4</th>\n",
       "      <td>2018-01-04T18:01:34</td>\n",
       "      <td>Germany had so much renewable energy over Chri...</td>\n",
       "      <td>politic</td>\n",
       "    </tr>\n",
       "    <tr>\n",
       "      <th>...</th>\n",
       "      <td>...</td>\n",
       "      <td>...</td>\n",
       "      <td>...</td>\n",
       "    </tr>\n",
       "    <tr>\n",
       "      <th>127388</th>\n",
       "      <td>2024-03-30T21:54:34</td>\n",
       "      <td>Wind generates record annual percentage of UK ...</td>\n",
       "      <td>technology</td>\n",
       "    </tr>\n",
       "    <tr>\n",
       "      <th>127389</th>\n",
       "      <td>2024-03-30T22:54:55</td>\n",
       "      <td>HP ends ties with Russia, shutting down its Ru...</td>\n",
       "      <td>technology</td>\n",
       "    </tr>\n",
       "    <tr>\n",
       "      <th>127390</th>\n",
       "      <td>2024-03-30T23:24:43</td>\n",
       "      <td>AT&amp;T confirms data for 73 million customers le...</td>\n",
       "      <td>technology</td>\n",
       "    </tr>\n",
       "    <tr>\n",
       "      <th>127391</th>\n",
       "      <td>2024-03-31T00:59:36</td>\n",
       "      <td>Missouri AG sues Media Matters as Republicans ...</td>\n",
       "      <td>technology</td>\n",
       "    </tr>\n",
       "    <tr>\n",
       "      <th>127392</th>\n",
       "      <td>2024-03-31T01:59:20</td>\n",
       "      <td>Breakdown of Safety Is Not Unique to Boeing — ...</td>\n",
       "      <td>technology</td>\n",
       "    </tr>\n",
       "  </tbody>\n",
       "</table>\n",
       "<p>127393 rows × 3 columns</p>\n",
       "</div>"
      ]
     },
     "execution_count": 2,
     "metadata": {},
     "output_type": "execute_result"
    }
   ],
   "execution_count": 2
  },
  {
   "metadata": {
    "ExecuteTime": {
     "end_time": "2024-04-24T16:48:00.178719Z",
     "start_time": "2024-04-24T16:48:00.174234Z"
    }
   },
   "cell_type": "code",
   "source": "df = df.drop('date', axis=1)",
   "id": "79aca7084d4b2571",
   "outputs": [],
   "execution_count": 3
  },
  {
   "metadata": {
    "ExecuteTime": {
     "end_time": "2024-04-24T16:48:00.203813Z",
     "start_time": "2024-04-24T16:48:00.179596Z"
    }
   },
   "cell_type": "code",
   "source": [
    "duplicated = df[df.duplicated(subset=['text'], keep=False)]\n",
    "duplicated"
   ],
   "id": "f21d9bd9e082086c",
   "outputs": [
    {
     "data": {
      "text/plain": [
       "                                                     text       label\n",
       "108     Snow falls in Sahara desert for third time in ...     politic\n",
       "117     Snow falls in Sahara desert for third time in ...     politic\n",
       "143     FBI Task Force to Expose Russian Social Media ...     politic\n",
       "171     World Infuriated by Trump's 'Shithole Countrie...     politic\n",
       "172                                                   NaN     politic\n",
       "...                                                   ...         ...\n",
       "127165  Musk's SpaceX is building spy satellite networ...  technology\n",
       "127166  Musk's SpaceX is building spy satellite networ...  technology\n",
       "127277  NASA needs your smartphone during April's sola...  technology\n",
       "127351  ‘Shortcuts Everywhere’: How Boeing Favored Spe...  technology\n",
       "127373  ‘Shortcuts Everywhere’: How Boeing Favored Spe...  technology\n",
       "\n",
       "[5385 rows x 2 columns]"
      ],
      "text/html": [
       "<div>\n",
       "<style scoped>\n",
       "    .dataframe tbody tr th:only-of-type {\n",
       "        vertical-align: middle;\n",
       "    }\n",
       "\n",
       "    .dataframe tbody tr th {\n",
       "        vertical-align: top;\n",
       "    }\n",
       "\n",
       "    .dataframe thead th {\n",
       "        text-align: right;\n",
       "    }\n",
       "</style>\n",
       "<table border=\"1\" class=\"dataframe\">\n",
       "  <thead>\n",
       "    <tr style=\"text-align: right;\">\n",
       "      <th></th>\n",
       "      <th>text</th>\n",
       "      <th>label</th>\n",
       "    </tr>\n",
       "  </thead>\n",
       "  <tbody>\n",
       "    <tr>\n",
       "      <th>108</th>\n",
       "      <td>Snow falls in Sahara desert for third time in ...</td>\n",
       "      <td>politic</td>\n",
       "    </tr>\n",
       "    <tr>\n",
       "      <th>117</th>\n",
       "      <td>Snow falls in Sahara desert for third time in ...</td>\n",
       "      <td>politic</td>\n",
       "    </tr>\n",
       "    <tr>\n",
       "      <th>143</th>\n",
       "      <td>FBI Task Force to Expose Russian Social Media ...</td>\n",
       "      <td>politic</td>\n",
       "    </tr>\n",
       "    <tr>\n",
       "      <th>171</th>\n",
       "      <td>World Infuriated by Trump's 'Shithole Countrie...</td>\n",
       "      <td>politic</td>\n",
       "    </tr>\n",
       "    <tr>\n",
       "      <th>172</th>\n",
       "      <td>NaN</td>\n",
       "      <td>politic</td>\n",
       "    </tr>\n",
       "    <tr>\n",
       "      <th>...</th>\n",
       "      <td>...</td>\n",
       "      <td>...</td>\n",
       "    </tr>\n",
       "    <tr>\n",
       "      <th>127165</th>\n",
       "      <td>Musk's SpaceX is building spy satellite networ...</td>\n",
       "      <td>technology</td>\n",
       "    </tr>\n",
       "    <tr>\n",
       "      <th>127166</th>\n",
       "      <td>Musk's SpaceX is building spy satellite networ...</td>\n",
       "      <td>technology</td>\n",
       "    </tr>\n",
       "    <tr>\n",
       "      <th>127277</th>\n",
       "      <td>NASA needs your smartphone during April's sola...</td>\n",
       "      <td>technology</td>\n",
       "    </tr>\n",
       "    <tr>\n",
       "      <th>127351</th>\n",
       "      <td>‘Shortcuts Everywhere’: How Boeing Favored Spe...</td>\n",
       "      <td>technology</td>\n",
       "    </tr>\n",
       "    <tr>\n",
       "      <th>127373</th>\n",
       "      <td>‘Shortcuts Everywhere’: How Boeing Favored Spe...</td>\n",
       "      <td>technology</td>\n",
       "    </tr>\n",
       "  </tbody>\n",
       "</table>\n",
       "<p>5385 rows × 2 columns</p>\n",
       "</div>"
      ]
     },
     "execution_count": 4,
     "metadata": {},
     "output_type": "execute_result"
    }
   ],
   "execution_count": 4
  },
  {
   "metadata": {
    "ExecuteTime": {
     "end_time": "2024-04-24T16:48:00.215538Z",
     "start_time": "2024-04-24T16:48:00.205385Z"
    }
   },
   "cell_type": "code",
   "source": "df = df.drop_duplicates(subset=['text'])",
   "id": "7f54aacbb394b66e",
   "outputs": [],
   "execution_count": 5
  },
  {
   "metadata": {
    "ExecuteTime": {
     "end_time": "2024-04-24T16:48:00.229080Z",
     "start_time": "2024-04-24T16:48:00.216542Z"
    }
   },
   "cell_type": "code",
   "source": "df = df.dropna(how='any')",
   "id": "2462f083620f4a5e",
   "outputs": [],
   "execution_count": 6
  },
  {
   "metadata": {
    "ExecuteTime": {
     "end_time": "2024-04-24T16:48:00.234430Z",
     "start_time": "2024-04-24T16:48:00.230136Z"
    }
   },
   "cell_type": "code",
   "source": "df",
   "id": "3016ebe012b82c12",
   "outputs": [
    {
     "data": {
      "text/plain": [
       "                                                     text       label\n",
       "0       Farmers will get subsidies for turning fields ...     politic\n",
       "1       Vanuatu bans non-biodegradable plastic to prot...     politic\n",
       "2       Ex-British PM Tony Blair ups calls for Labour ...     politic\n",
       "3       UK's Tony Blair argues voters deserve another ...     politic\n",
       "4       Germany had so much renewable energy over Chri...     politic\n",
       "...                                                   ...         ...\n",
       "127388  Wind generates record annual percentage of UK ...  technology\n",
       "127389  HP ends ties with Russia, shutting down its Ru...  technology\n",
       "127390  AT&T confirms data for 73 million customers le...  technology\n",
       "127391  Missouri AG sues Media Matters as Republicans ...  technology\n",
       "127392  Breakdown of Safety Is Not Unique to Boeing — ...  technology\n",
       "\n",
       "[124534 rows x 2 columns]"
      ],
      "text/html": [
       "<div>\n",
       "<style scoped>\n",
       "    .dataframe tbody tr th:only-of-type {\n",
       "        vertical-align: middle;\n",
       "    }\n",
       "\n",
       "    .dataframe tbody tr th {\n",
       "        vertical-align: top;\n",
       "    }\n",
       "\n",
       "    .dataframe thead th {\n",
       "        text-align: right;\n",
       "    }\n",
       "</style>\n",
       "<table border=\"1\" class=\"dataframe\">\n",
       "  <thead>\n",
       "    <tr style=\"text-align: right;\">\n",
       "      <th></th>\n",
       "      <th>text</th>\n",
       "      <th>label</th>\n",
       "    </tr>\n",
       "  </thead>\n",
       "  <tbody>\n",
       "    <tr>\n",
       "      <th>0</th>\n",
       "      <td>Farmers will get subsidies for turning fields ...</td>\n",
       "      <td>politic</td>\n",
       "    </tr>\n",
       "    <tr>\n",
       "      <th>1</th>\n",
       "      <td>Vanuatu bans non-biodegradable plastic to prot...</td>\n",
       "      <td>politic</td>\n",
       "    </tr>\n",
       "    <tr>\n",
       "      <th>2</th>\n",
       "      <td>Ex-British PM Tony Blair ups calls for Labour ...</td>\n",
       "      <td>politic</td>\n",
       "    </tr>\n",
       "    <tr>\n",
       "      <th>3</th>\n",
       "      <td>UK's Tony Blair argues voters deserve another ...</td>\n",
       "      <td>politic</td>\n",
       "    </tr>\n",
       "    <tr>\n",
       "      <th>4</th>\n",
       "      <td>Germany had so much renewable energy over Chri...</td>\n",
       "      <td>politic</td>\n",
       "    </tr>\n",
       "    <tr>\n",
       "      <th>...</th>\n",
       "      <td>...</td>\n",
       "      <td>...</td>\n",
       "    </tr>\n",
       "    <tr>\n",
       "      <th>127388</th>\n",
       "      <td>Wind generates record annual percentage of UK ...</td>\n",
       "      <td>technology</td>\n",
       "    </tr>\n",
       "    <tr>\n",
       "      <th>127389</th>\n",
       "      <td>HP ends ties with Russia, shutting down its Ru...</td>\n",
       "      <td>technology</td>\n",
       "    </tr>\n",
       "    <tr>\n",
       "      <th>127390</th>\n",
       "      <td>AT&amp;T confirms data for 73 million customers le...</td>\n",
       "      <td>technology</td>\n",
       "    </tr>\n",
       "    <tr>\n",
       "      <th>127391</th>\n",
       "      <td>Missouri AG sues Media Matters as Republicans ...</td>\n",
       "      <td>technology</td>\n",
       "    </tr>\n",
       "    <tr>\n",
       "      <th>127392</th>\n",
       "      <td>Breakdown of Safety Is Not Unique to Boeing — ...</td>\n",
       "      <td>technology</td>\n",
       "    </tr>\n",
       "  </tbody>\n",
       "</table>\n",
       "<p>124534 rows × 2 columns</p>\n",
       "</div>"
      ]
     },
     "execution_count": 7,
     "metadata": {},
     "output_type": "execute_result"
    }
   ],
   "execution_count": 7
  },
  {
   "metadata": {
    "ExecuteTime": {
     "end_time": "2024-04-24T16:48:00.503515Z",
     "start_time": "2024-04-24T16:48:00.235373Z"
    }
   },
   "cell_type": "code",
   "source": "nlp = spacy.load('en_core_web_sm')",
   "id": "5615e2d672d28920",
   "outputs": [],
   "execution_count": 8
  },
  {
   "metadata": {
    "ExecuteTime": {
     "end_time": "2024-04-24T16:48:00.506387Z",
     "start_time": "2024-04-24T16:48:00.504237Z"
    }
   },
   "cell_type": "code",
   "source": [
    "def process_text(text):\n",
    "    doc = nlp(text)\n",
    "    return [token.lemma_ for token in doc]"
   ],
   "id": "ee5bbdeb85fbc5c8",
   "outputs": [],
   "execution_count": 9
  },
  {
   "metadata": {},
   "cell_type": "code",
   "source": "processed_corpus = [process_text(text) for text in df['text']]",
   "id": "18bdd44df2e0f25e",
   "outputs": [],
   "execution_count": null
  },
  {
   "metadata": {},
   "cell_type": "code",
   "source": [
    "with open('../data/processed_corpus.pkl', 'wb') as f:\n",
    "    pickle.dump(processed_corpus, f)"
   ],
   "id": "87c35d8990b9438a",
   "outputs": [],
   "execution_count": null
  },
  {
   "metadata": {},
   "cell_type": "code",
   "source": "processed_corpus",
   "id": "ef0275ccd1f8fa82",
   "outputs": [],
   "execution_count": null
  },
  {
   "metadata": {
    "ExecuteTime": {
     "end_time": "2024-04-24T16:48:07.400956Z",
     "start_time": "2024-04-24T16:48:07.396816Z"
    }
   },
   "cell_type": "code",
   "source": [
    "def process_batch(batch):\n",
    "    processed_texts = []\n",
    "    for text in batch:\n",
    "        doc = nlp(text)\n",
    "        processed_texts.append([token.lemma_ for token in doc if not token.is_stop and not token.is_punct])\n",
    "    return processed_texts"
   ],
   "id": "4064232b587461a2",
   "outputs": [],
   "execution_count": 10
  },
  {
   "metadata": {
    "ExecuteTime": {
     "end_time": "2024-04-24T16:59:24.579914Z",
     "start_time": "2024-04-24T16:48:07.613635Z"
    }
   },
   "cell_type": "code",
   "source": [
    "batch_size = 100\n",
    "batches = [df['text'][i:i+batch_size] for i in range(0, len(df), batch_size)]\n",
    "\n",
    "processed_data = []\n",
    "for batch in batches:\n",
    "    processed_data.extend(process_batch(batch))\n",
    "\n",
    "df['processed_data'] = processed_data"
   ],
   "id": "636a5dd84f5ddc7d",
   "outputs": [],
   "execution_count": 11
  },
  {
   "metadata": {},
   "cell_type": "code",
   "source": "df",
   "id": "b389455aadb5d031",
   "outputs": [],
   "execution_count": null
  },
  {
   "metadata": {},
   "cell_type": "code",
   "source": "",
   "id": "4801426b52072671",
   "outputs": [],
   "execution_count": null
  }
 ],
 "metadata": {
  "kernelspec": {
   "display_name": "Python 3",
   "language": "python",
   "name": "python3"
  },
  "language_info": {
   "codemirror_mode": {
    "name": "ipython",
    "version": 2
   },
   "file_extension": ".py",
   "mimetype": "text/x-python",
   "name": "python",
   "nbconvert_exporter": "python",
   "pygments_lexer": "ipython2",
   "version": "2.7.6"
  }
 },
 "nbformat": 4,
 "nbformat_minor": 5
}
