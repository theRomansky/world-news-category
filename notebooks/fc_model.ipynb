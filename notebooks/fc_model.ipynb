{
 "cells": [
  {
   "cell_type": "code",
   "id": "initial_id",
   "metadata": {
    "collapsed": true,
    "ExecuteTime": {
     "end_time": "2024-04-27T17:16:07.292067Z",
     "start_time": "2024-04-27T17:16:04.849936Z"
    }
   },
   "source": [
    "import matplotlib.pyplot as plt\n",
    "import seaborn as sns\n",
    "import pickle\n",
    "import datetime\n",
    "import torch\n",
    "import torch.nn as nn\n",
    "import torch.optim as optim\n",
    "from torch.utils.data import DataLoader, TensorDataset\n",
    "from sklearn.model_selection import train_test_split\n",
    "from sklearn.metrics import classification_report, confusion_matrix"
   ],
   "outputs": [],
   "execution_count": 491
  },
  {
   "metadata": {
    "ExecuteTime": {
     "end_time": "2024-04-27T17:12:10.107429Z",
     "start_time": "2024-04-27T17:12:10.095598Z"
    }
   },
   "cell_type": "code",
   "source": [
    "with open('../data/vectors.pkl', 'rb') as f:\n",
    "    data = pickle.load(f)"
   ],
   "id": "74a4f801dc57fee",
   "outputs": [],
   "execution_count": 476
  },
  {
   "metadata": {
    "ExecuteTime": {
     "end_time": "2024-04-27T17:12:10.110797Z",
     "start_time": "2024-04-27T17:12:10.108576Z"
    }
   },
   "cell_type": "code",
   "source": [
    "with open('../data/labels.pkl', 'rb') as f:\n",
    "    labels = pickle.load(f)"
   ],
   "id": "e921ae73f0d52e21",
   "outputs": [],
   "execution_count": 477
  },
  {
   "metadata": {
    "ExecuteTime": {
     "end_time": "2024-04-27T17:12:10.159546Z",
     "start_time": "2024-04-27T17:12:10.114759Z"
    }
   },
   "cell_type": "code",
   "source": [
    "train_data, test_val_data, train_labels, test_val_labels = train_test_split(data, labels, train_size=0.7, random_state=42, stratify=labels)\n",
    "test_data, val_data, test_labels, val_labels = train_test_split(test_val_data, test_val_labels, test_size=0.5, random_state=42, stratify=test_val_labels)"
   ],
   "id": "217fabdd5f7bbeef",
   "outputs": [],
   "execution_count": 478
  },
  {
   "metadata": {
    "ExecuteTime": {
     "end_time": "2024-04-27T17:12:10.163285Z",
     "start_time": "2024-04-27T17:12:10.160858Z"
    }
   },
   "cell_type": "code",
   "source": [
    "train_data_tensor = torch.from_numpy(train_data)\n",
    "val_data_tensor = torch.from_numpy(val_data)\n",
    "test_data_tensor = torch.from_numpy(test_data)\n",
    "train_labels_tensor = torch.from_numpy(train_labels)\n",
    "val_labels_tensor = torch.from_numpy(val_labels)\n",
    "test_labels_tensor = torch.from_numpy(test_labels)"
   ],
   "id": "7561aac49bfbbabf",
   "outputs": [],
   "execution_count": 479
  },
  {
   "metadata": {
    "ExecuteTime": {
     "end_time": "2024-04-27T17:12:10.167677Z",
     "start_time": "2024-04-27T17:12:10.164082Z"
    }
   },
   "cell_type": "code",
   "source": [
    "train_dataset = TensorDataset(train_data_tensor, train_labels_tensor)\n",
    "val_dataset = TensorDataset(val_data_tensor, val_labels_tensor)\n",
    "test_dataset = TensorDataset(test_data_tensor, test_labels_tensor)\n",
    "\n",
    "train_loader = DataLoader(train_dataset, batch_size=64, shuffle=True)\n",
    "val_loader = DataLoader(val_dataset, batch_size=64)\n",
    "test_loader = DataLoader(test_dataset, batch_size=64)"
   ],
   "id": "d6612c06c626140a",
   "outputs": [],
   "execution_count": 480
  },
  {
   "metadata": {
    "ExecuteTime": {
     "end_time": "2024-04-27T17:12:10.172922Z",
     "start_time": "2024-04-27T17:12:10.169256Z"
    }
   },
   "cell_type": "code",
   "source": [
    "class DenseNet(nn.Module):\n",
    "    def __init__(self, dropout=0.0):\n",
    "        super().__init__()\n",
    "        self.fc1 = nn.Linear(100, 256)\n",
    "        self.fc2 = nn.Linear(256, 128)\n",
    "        self.fc3 = nn.Linear(128, 64)\n",
    "        self.fc4 = nn.Linear(64, 32)\n",
    "        self.fc5 = nn.Linear(32, 3)\n",
    "        self.act = nn.ReLU()\n",
    "        self.dropout = nn.Dropout(p=dropout)\n",
    "        \n",
    "    def forward(self, x):\n",
    "        out = self.fc1(x)\n",
    "        out = self.act(out)\n",
    "        out = self.fc2(out)\n",
    "        out = self.act(out)\n",
    "        out = self.fc3(out)\n",
    "        out = self.act(out)\n",
    "        out = self.fc4(out)\n",
    "        out = self.act(out)\n",
    "        out = self.fc5(out)\n",
    "        \n",
    "        return out"
   ],
   "id": "3275a9640601165f",
   "outputs": [],
   "execution_count": 481
  },
  {
   "metadata": {
    "ExecuteTime": {
     "end_time": "2024-04-27T17:12:10.175416Z",
     "start_time": "2024-04-27T17:12:10.173673Z"
    }
   },
   "cell_type": "code",
   "source": "device = torch.device(\"cuda\" if torch.cuda.is_available() else \"cpu\")",
   "id": "83b2b8d494f9242c",
   "outputs": [],
   "execution_count": 482
  },
  {
   "metadata": {
    "ExecuteTime": {
     "end_time": "2024-04-27T17:12:10.179827Z",
     "start_time": "2024-04-27T17:12:10.176095Z"
    }
   },
   "cell_type": "code",
   "source": [
    "def training_loop(n_epochs, model, optimizer, criterion, train_loader, val_loader):\n",
    "    train_losses = []\n",
    "    val_losses = []\n",
    "    for epoch in range(n_epochs):\n",
    "        loss_train = 0.0\n",
    "        for data, labels in train_loader:\n",
    "            data, labels = data.to(device), labels.to(device)\n",
    "            optimizer.zero_grad()\n",
    "            outputs = model(data)\n",
    "            loss = criterion(outputs, labels)\n",
    "            loss.backward()\n",
    "            optimizer.step()\n",
    "            loss_train += loss.item()\n",
    "        \n",
    "        avg_loss_train = loss_train / len(train_loader)\n",
    "        train_losses.append(avg_loss_train)\n",
    "        \n",
    "        loss_val = 0.0\n",
    "        with torch.no_grad():\n",
    "            for val_data, val_labels in val_loader:\n",
    "                val_data, val_labels = val_data.to(device), val_labels.to(device)\n",
    "                val_outputs = model(val_data)\n",
    "                loss_val += criterion(val_outputs, val_labels).item()\n",
    "            avg_loss_val = loss_val / len(val_loader)\n",
    "            val_losses.append(avg_loss_val)\n",
    "\n",
    "        print('{} Epoch {}, Training loss: {:.4f}'.format(datetime.datetime.now(), epoch + 1, avg_loss_train))\n",
    "        print('{} Epoch {}, Validation loss: {:.4f}'.format(datetime.datetime.now(), epoch + 1, avg_loss_val))\n",
    "\n",
    "    return train_losses, val_losses"
   ],
   "id": "e42ec579f990f412",
   "outputs": [],
   "execution_count": 483
  },
  {
   "metadata": {
    "ExecuteTime": {
     "end_time": "2024-04-27T17:12:10.182917Z",
     "start_time": "2024-04-27T17:12:10.180765Z"
    }
   },
   "cell_type": "code",
   "source": [
    "def plot_losses(train_losses, val_losses):\n",
    "    plt.plot(train_losses, label='Training loss')\n",
    "    plt.plot(val_losses, label='Validation loss')\n",
    "    plt.xlabel('Epochs')\n",
    "    plt.ylabel('Loss')\n",
    "    plt.title('Training and Validation Loss')\n",
    "    plt.legend()\n",
    "    plt.show()"
   ],
   "id": "448ec2df17e27a39",
   "outputs": [],
   "execution_count": 484
  },
  {
   "metadata": {
    "ExecuteTime": {
     "end_time": "2024-04-27T17:12:10.186717Z",
     "start_time": "2024-04-27T17:12:10.183716Z"
    }
   },
   "cell_type": "code",
   "source": [
    "def evaluate_model(model, data_loader):\n",
    "    loss = 0.0\n",
    "    correct = 0.0\n",
    "    total = 0.0\n",
    "\n",
    "    model.eval()\n",
    "    with torch.no_grad():\n",
    "        for data, labels in data_loader:\n",
    "            data, labels = data.to(device), labels.to(device)\n",
    "            output = model(data)\n",
    "            loss += criterion(output, labels).item()\n",
    "            _, predicted = torch.max(output.data, 1)\n",
    "            total += labels.size(0)\n",
    "            correct += (predicted == labels).sum().item()\n",
    "\n",
    "    avg_loss = loss / len(data_loader)\n",
    "    accuracy = 100 * correct / total\n",
    "\n",
    "    return avg_loss, accuracy"
   ],
   "id": "6bc78d801e7c4c7",
   "outputs": [],
   "execution_count": 485
  },
  {
   "metadata": {
    "ExecuteTime": {
     "end_time": "2024-04-27T17:12:10.190611Z",
     "start_time": "2024-04-27T17:12:10.187524Z"
    }
   },
   "cell_type": "code",
   "source": [
    "n_epochs = 50\n",
    "learning_rate = 0.002\n",
    "\n",
    "model = DenseNet(dropout=0.5)\n",
    "criterion = nn.CrossEntropyLoss()\n",
    "optimizer = optim.SGD(model.parameters(), lr=learning_rate)"
   ],
   "id": "67fb3bb412025b19",
   "outputs": [],
   "execution_count": 486
  },
  {
   "metadata": {
    "ExecuteTime": {
     "end_time": "2024-04-27T17:12:57.532135Z",
     "start_time": "2024-04-27T17:12:10.192546Z"
    }
   },
   "cell_type": "code",
   "source": "train_losses, val_losses = training_loop(n_epochs, model, optimizer, criterion, train_loader, val_loader)",
   "id": "ac62b0e0343d9497",
   "outputs": [
    {
     "name": "stdout",
     "output_type": "stream",
     "text": [
      "2024-04-28 00:12:11.251743 Epoch 1, Training loss: 1.0840\n",
      "2024-04-28 00:12:11.251864 Epoch 1, Validation loss: 1.0798\n",
      "2024-04-28 00:12:12.260992 Epoch 2, Training loss: 1.0789\n",
      "2024-04-28 00:12:12.261090 Epoch 2, Validation loss: 1.0784\n",
      "2024-04-28 00:12:13.271013 Epoch 3, Training loss: 1.0782\n",
      "2024-04-28 00:12:13.271131 Epoch 3, Validation loss: 1.0780\n",
      "2024-04-28 00:12:14.196177 Epoch 4, Training loss: 1.0778\n",
      "2024-04-28 00:12:14.196283 Epoch 4, Validation loss: 1.0776\n",
      "2024-04-28 00:12:15.128120 Epoch 5, Training loss: 1.0774\n",
      "2024-04-28 00:12:15.128215 Epoch 5, Validation loss: 1.0772\n",
      "2024-04-28 00:12:16.072412 Epoch 6, Training loss: 1.0771\n",
      "2024-04-28 00:12:16.072507 Epoch 6, Validation loss: 1.0768\n",
      "2024-04-28 00:12:17.000366 Epoch 7, Training loss: 1.0765\n",
      "2024-04-28 00:12:17.000469 Epoch 7, Validation loss: 1.0761\n",
      "2024-04-28 00:12:17.931103 Epoch 8, Training loss: 1.0757\n",
      "2024-04-28 00:12:17.931213 Epoch 8, Validation loss: 1.0753\n",
      "2024-04-28 00:12:18.903124 Epoch 9, Training loss: 1.0748\n",
      "2024-04-28 00:12:18.903226 Epoch 9, Validation loss: 1.0742\n",
      "2024-04-28 00:12:19.831642 Epoch 10, Training loss: 1.0733\n",
      "2024-04-28 00:12:19.831761 Epoch 10, Validation loss: 1.0726\n",
      "2024-04-28 00:12:20.763387 Epoch 11, Training loss: 1.0714\n",
      "2024-04-28 00:12:20.763504 Epoch 11, Validation loss: 1.0702\n",
      "2024-04-28 00:12:21.713126 Epoch 12, Training loss: 1.0682\n",
      "2024-04-28 00:12:21.713233 Epoch 12, Validation loss: 1.0662\n",
      "2024-04-28 00:12:22.681749 Epoch 13, Training loss: 1.0628\n",
      "2024-04-28 00:12:22.681849 Epoch 13, Validation loss: 1.0591\n",
      "2024-04-28 00:12:23.626446 Epoch 14, Training loss: 1.0531\n",
      "2024-04-28 00:12:23.626552 Epoch 14, Validation loss: 1.0460\n",
      "2024-04-28 00:12:24.558008 Epoch 15, Training loss: 1.0337\n",
      "2024-04-28 00:12:24.558127 Epoch 15, Validation loss: 1.0192\n",
      "2024-04-28 00:12:25.485900 Epoch 16, Training loss: 0.9934\n",
      "2024-04-28 00:12:25.485998 Epoch 16, Validation loss: 0.9640\n",
      "2024-04-28 00:12:26.422235 Epoch 17, Training loss: 0.9201\n",
      "2024-04-28 00:12:26.422344 Epoch 17, Validation loss: 0.8793\n",
      "2024-04-28 00:12:27.350024 Epoch 18, Training loss: 0.8367\n",
      "2024-04-28 00:12:27.350123 Epoch 18, Validation loss: 0.8067\n",
      "2024-04-28 00:12:28.281774 Epoch 19, Training loss: 0.7781\n",
      "2024-04-28 00:12:28.281880 Epoch 19, Validation loss: 0.7630\n",
      "2024-04-28 00:12:29.220944 Epoch 20, Training loss: 0.7453\n",
      "2024-04-28 00:12:29.221048 Epoch 20, Validation loss: 0.7408\n",
      "2024-04-28 00:12:30.154730 Epoch 21, Training loss: 0.7285\n",
      "2024-04-28 00:12:30.154825 Epoch 21, Validation loss: 0.7290\n",
      "2024-04-28 00:12:31.118317 Epoch 22, Training loss: 0.7203\n",
      "2024-04-28 00:12:31.118414 Epoch 22, Validation loss: 0.7232\n",
      "2024-04-28 00:12:32.067305 Epoch 23, Training loss: 0.7152\n",
      "2024-04-28 00:12:32.067411 Epoch 23, Validation loss: 0.7192\n",
      "2024-04-28 00:12:33.005405 Epoch 24, Training loss: 0.7116\n",
      "2024-04-28 00:12:33.005512 Epoch 24, Validation loss: 0.7166\n",
      "2024-04-28 00:12:33.933483 Epoch 25, Training loss: 0.7089\n",
      "2024-04-28 00:12:33.933581 Epoch 25, Validation loss: 0.7182\n",
      "2024-04-28 00:12:34.868922 Epoch 26, Training loss: 0.7054\n",
      "2024-04-28 00:12:34.869032 Epoch 26, Validation loss: 0.7104\n",
      "2024-04-28 00:12:35.802891 Epoch 27, Training loss: 0.7023\n",
      "2024-04-28 00:12:35.802996 Epoch 27, Validation loss: 0.7088\n",
      "2024-04-28 00:12:36.740037 Epoch 28, Training loss: 0.6985\n",
      "2024-04-28 00:12:36.740146 Epoch 28, Validation loss: 0.7037\n",
      "2024-04-28 00:12:37.673937 Epoch 29, Training loss: 0.6941\n",
      "2024-04-28 00:12:37.674031 Epoch 29, Validation loss: 0.6986\n",
      "2024-04-28 00:12:38.610072 Epoch 30, Training loss: 0.6889\n",
      "2024-04-28 00:12:38.610168 Epoch 30, Validation loss: 0.6931\n",
      "2024-04-28 00:12:39.542283 Epoch 31, Training loss: 0.6818\n",
      "2024-04-28 00:12:39.542392 Epoch 31, Validation loss: 0.6861\n",
      "2024-04-28 00:12:40.471523 Epoch 32, Training loss: 0.6741\n",
      "2024-04-28 00:12:40.471630 Epoch 32, Validation loss: 0.6766\n",
      "2024-04-28 00:12:41.409171 Epoch 33, Training loss: 0.6623\n",
      "2024-04-28 00:12:41.409266 Epoch 33, Validation loss: 0.6632\n",
      "2024-04-28 00:12:42.343338 Epoch 34, Training loss: 0.6468\n",
      "2024-04-28 00:12:42.343456 Epoch 34, Validation loss: 0.6452\n",
      "2024-04-28 00:12:43.275763 Epoch 35, Training loss: 0.6266\n",
      "2024-04-28 00:12:43.275860 Epoch 35, Validation loss: 0.6228\n",
      "2024-04-28 00:12:44.210693 Epoch 36, Training loss: 0.6033\n",
      "2024-04-28 00:12:44.210789 Epoch 36, Validation loss: 0.5985\n",
      "2024-04-28 00:12:45.140623 Epoch 37, Training loss: 0.5844\n",
      "2024-04-28 00:12:45.140730 Epoch 37, Validation loss: 0.5828\n",
      "2024-04-28 00:12:46.074972 Epoch 38, Training loss: 0.5733\n",
      "2024-04-28 00:12:46.075082 Epoch 38, Validation loss: 0.5751\n",
      "2024-04-28 00:12:47.006818 Epoch 39, Training loss: 0.5665\n",
      "2024-04-28 00:12:47.006932 Epoch 39, Validation loss: 0.5689\n",
      "2024-04-28 00:12:47.936404 Epoch 40, Training loss: 0.5622\n",
      "2024-04-28 00:12:47.936506 Epoch 40, Validation loss: 0.5660\n",
      "2024-04-28 00:12:48.914252 Epoch 41, Training loss: 0.5593\n",
      "2024-04-28 00:12:48.914358 Epoch 41, Validation loss: 0.5637\n",
      "2024-04-28 00:12:49.869336 Epoch 42, Training loss: 0.5574\n",
      "2024-04-28 00:12:49.869445 Epoch 42, Validation loss: 0.5626\n",
      "2024-04-28 00:12:50.809261 Epoch 43, Training loss: 0.5562\n",
      "2024-04-28 00:12:50.809377 Epoch 43, Validation loss: 0.5625\n",
      "2024-04-28 00:12:51.756882 Epoch 44, Training loss: 0.5547\n",
      "2024-04-28 00:12:51.757003 Epoch 44, Validation loss: 0.5597\n",
      "2024-04-28 00:12:52.702225 Epoch 45, Training loss: 0.5532\n",
      "2024-04-28 00:12:52.702330 Epoch 45, Validation loss: 0.5593\n",
      "2024-04-28 00:12:53.646964 Epoch 46, Training loss: 0.5524\n",
      "2024-04-28 00:12:53.647069 Epoch 46, Validation loss: 0.5582\n",
      "2024-04-28 00:12:54.583498 Epoch 47, Training loss: 0.5511\n",
      "2024-04-28 00:12:54.583596 Epoch 47, Validation loss: 0.5573\n",
      "2024-04-28 00:12:55.523539 Epoch 48, Training loss: 0.5501\n",
      "2024-04-28 00:12:55.523642 Epoch 48, Validation loss: 0.5609\n",
      "2024-04-28 00:12:56.543036 Epoch 49, Training loss: 0.5490\n",
      "2024-04-28 00:12:56.543138 Epoch 49, Validation loss: 0.5555\n",
      "2024-04-28 00:12:57.530671 Epoch 50, Training loss: 0.5480\n",
      "2024-04-28 00:12:57.530786 Epoch 50, Validation loss: 0.5558\n"
     ]
    }
   ],
   "execution_count": 487
  },
  {
   "metadata": {
    "ExecuteTime": {
     "end_time": "2024-04-27T17:12:57.612959Z",
     "start_time": "2024-04-27T17:12:57.532993Z"
    }
   },
   "cell_type": "code",
   "source": "plot_losses(train_losses, val_losses)",
   "id": "89ae06bd0320ae56",
   "outputs": [
    {
     "data": {
      "text/plain": [
       "<Figure size 640x480 with 1 Axes>"
      ],
      "image/png": "[encoded data removed]"
     },
     "metadata": {},
     "output_type": "display_data"
    }
   ],
   "execution_count": 488
  },
  {
   "metadata": {
    "ExecuteTime": {
     "end_time": "2024-04-27T17:12:57.723851Z",
     "start_time": "2024-04-27T17:12:57.613923Z"
    }
   },
   "cell_type": "code",
   "source": "evaluate_model(model, val_loader)",
   "id": "bb2ba1991a1eba74",
   "outputs": [
    {
     "data": {
      "text/plain": [
       "(0.5557535276429294, 77.80632728440662)"
      ]
     },
     "execution_count": 489,
     "metadata": {},
     "output_type": "execute_result"
    }
   ],
   "execution_count": 489
  },
  {
   "metadata": {
    "ExecuteTime": {
     "end_time": "2024-04-27T17:18:44.263757Z",
     "start_time": "2024-04-27T17:18:44.155941Z"
    }
   },
   "cell_type": "code",
   "source": [
    "model.eval()\n",
    "predictions = []\n",
    "with torch.no_grad():\n",
    "    for data, labels in test_loader:\n",
    "        data, labels = data.to(device), labels.to(device)\n",
    "        outputs = model(data)\n",
    "        predictions.extend(outputs.tolist())\n",
    "\n",
    "probs = torch.tensor(predictions)\n",
    "predicted_classes = torch.argmax(probs, dim=1)"
   ],
   "id": "c05f3fac62ee6924",
   "outputs": [],
   "execution_count": 492
  },
  {
   "metadata": {
    "ExecuteTime": {
     "end_time": "2024-04-27T17:18:54.420583Z",
     "start_time": "2024-04-27T17:18:54.396834Z"
    }
   },
   "cell_type": "code",
   "source": "print(classification_report(predicted_classes, test_labels))",
   "id": "892966b79aa5c991",
   "outputs": [
    {
     "name": "stdout",
     "output_type": "stream",
     "text": [
      "              precision    recall  f1-score   support\n",
      "\n",
      "           0       0.83      0.79      0.81      8331\n",
      "           1       0.78      0.80      0.79      5662\n",
      "           2       0.65      0.69      0.67      4687\n",
      "\n",
      "    accuracy                           0.77     18680\n",
      "   macro avg       0.76      0.76      0.76     18680\n",
      "weighted avg       0.77      0.77      0.77     18680\n",
      "\n"
     ]
    }
   ],
   "execution_count": 493
  },
  {
   "metadata": {
    "ExecuteTime": {
     "end_time": "2024-04-27T17:19:13.878807Z",
     "start_time": "2024-04-27T17:19:13.785168Z"
    }
   },
   "cell_type": "code",
   "source": [
    "conf_matrix = confusion_matrix(test_labels, predicted_classes)\n",
    "plt.figure(figsize=(8, 6))\n",
    "sns.heatmap(conf_matrix, annot=True, fmt='d', cmap='Blues')\n",
    "plt.xlabel('Predicted label')\n",
    "plt.ylabel('True label')\n",
    "plt.title('Confusion Matrix')\n",
    "plt.show()"
   ],
   "id": "8404fcb43dfade8d",
   "outputs": [
    {
     "data": {
      "text/plain": [
       "<Figure size 800x600 with 2 Axes>"
      ],
      "image/png": "[encoded data removed]"
     },
     "metadata": {},
     "output_type": "display_data"
    }
   ],
   "execution_count": 494
  },
  {
   "metadata": {},
   "cell_type": "code",
   "outputs": [],
   "execution_count": null,
   "source": "",
   "id": "b52ec99d89339df5"
  }
 ],
 "metadata": {
  "kernelspec": {
   "display_name": "Python 3",
   "language": "python",
   "name": "python3"
  },
  "language_info": {
   "codemirror_mode": {
    "name": "ipython",
    "version": 2
   },
   "file_extension": ".py",
   "mimetype": "text/x-python",
   "name": "python",
   "nbconvert_exporter": "python",
   "pygments_lexer": "ipython2",
   "version": "2.7.6"
  }
 },
 "nbformat": 4,
 "nbformat_minor": 5
}
