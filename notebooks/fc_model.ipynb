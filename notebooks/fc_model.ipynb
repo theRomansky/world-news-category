{
 "cells": [
  {
   "cell_type": "code",
   "id": "initial_id",
   "metadata": {
    "collapsed": true,
    "ExecuteTime": {
     "end_time": "2024-04-26T17:42:37.057502Z",
     "start_time": "2024-04-26T17:42:34.014949Z"
    }
   },
   "source": [
    "import numpy as np\n",
    "import matplotlib.pyplot as plt\n",
    "import pickle\n",
    "import datetime\n",
    "import torch\n",
    "import torch.nn as nn\n",
    "import torch.optim as optim\n",
    "from torch.utils.data import DataLoader, TensorDataset\n",
    "from sklearn.model_selection import train_test_split"
   ],
   "outputs": [],
   "execution_count": 48
  },
  {
   "metadata": {
    "ExecuteTime": {
     "end_time": "2024-04-26T16:24:07.319568Z",
     "start_time": "2024-04-26T16:24:07.306907Z"
    }
   },
   "cell_type": "code",
   "source": [
    "with open('../data/vectors.pkl', 'rb') as f:\n",
    "    data = pickle.load(f)"
   ],
   "id": "74a4f801dc57fee",
   "outputs": [],
   "execution_count": 3
  },
  {
   "metadata": {
    "ExecuteTime": {
     "end_time": "2024-04-26T16:24:52.494497Z",
     "start_time": "2024-04-26T16:24:52.491548Z"
    }
   },
   "cell_type": "code",
   "source": [
    "with open('../data/labels.pkl', 'rb') as f:\n",
    "    labels = pickle.load(f)"
   ],
   "id": "e921ae73f0d52e21",
   "outputs": [],
   "execution_count": 6
  },
  {
   "metadata": {
    "ExecuteTime": {
     "end_time": "2024-04-26T16:48:26.967499Z",
     "start_time": "2024-04-26T16:48:26.917095Z"
    }
   },
   "cell_type": "code",
   "source": [
    "train_data, test_val_data, train_labels, test_val_labels = train_test_split(data, labels, train_size=0.7, random_state=42, stratify=labels)\n",
    "test_data, val_data, test_labels, val_labels = train_test_split(test_val_data, test_val_labels, test_size=0.5, random_state=42, stratify=test_val_labels)"
   ],
   "id": "217fabdd5f7bbeef",
   "outputs": [],
   "execution_count": 18
  },
  {
   "metadata": {
    "ExecuteTime": {
     "end_time": "2024-04-26T16:53:13.441067Z",
     "start_time": "2024-04-26T16:53:13.437382Z"
    }
   },
   "cell_type": "code",
   "source": [
    "train_data_tensor = torch.from_numpy(train_data)\n",
    "val_data_tensor = torch.from_numpy(val_data)\n",
    "test_data_tensor = torch.from_numpy(test_data)\n",
    "train_labels_tensor = torch.from_numpy(train_labels)\n",
    "val_labels_tensor = torch.from_numpy(val_labels)\n",
    "test_labels_tensor = torch.from_numpy(test_labels)"
   ],
   "id": "7561aac49bfbbabf",
   "outputs": [],
   "execution_count": 28
  },
  {
   "metadata": {
    "ExecuteTime": {
     "end_time": "2024-04-26T16:54:49.075268Z",
     "start_time": "2024-04-26T16:54:49.070554Z"
    }
   },
   "cell_type": "code",
   "source": [
    "train_dataset = TensorDataset(train_data_tensor, train_labels_tensor)\n",
    "val_dataset = TensorDataset(val_data_tensor, val_labels_tensor)\n",
    "test_dataset = TensorDataset(test_data_tensor, test_labels_tensor)\n",
    "\n",
    "train_loader = DataLoader(train_dataset, batch_size=64, shuffle=True)\n",
    "val_loader = DataLoader(val_dataset, batch_size=64)\n",
    "test_loader = DataLoader(test_dataset, batch_size=64)"
   ],
   "id": "d6612c06c626140a",
   "outputs": [],
   "execution_count": 32
  },
  {
   "metadata": {
    "ExecuteTime": {
     "end_time": "2024-04-26T18:02:27.571933Z",
     "start_time": "2024-04-26T18:02:27.567275Z"
    }
   },
   "cell_type": "code",
   "source": [
    "class DenseNet(nn.Module):\n",
    "    def __init__(self, dropout=0.0):\n",
    "        super().__init__()\n",
    "        self.fc1 = nn.Linear(100, 128)\n",
    "        self.fc2 = nn.Linear(128, 64)\n",
    "        self.fc3 = nn.Linear(64, 3)\n",
    "        self.act = nn.ReLU()\n",
    "        self.dropout = nn.Dropout(p=dropout)\n",
    "        \n",
    "    def forward(self, x):\n",
    "        out = self.fc1(x)\n",
    "        out = self.act(out)\n",
    "        out = self.fc2(out)\n",
    "        out = self.act(out)\n",
    "        out = self.fc3(out)\n",
    "        \n",
    "        return out"
   ],
   "id": "3275a9640601165f",
   "outputs": [],
   "execution_count": 81
  },
  {
   "metadata": {
    "ExecuteTime": {
     "end_time": "2024-04-26T18:02:14.513869Z",
     "start_time": "2024-04-26T18:02:14.511472Z"
    }
   },
   "cell_type": "code",
   "source": "device = torch.device(\"cuda\" if torch.cuda.is_available() else \"cpu\")",
   "id": "83b2b8d494f9242c",
   "outputs": [],
   "execution_count": 76
  },
  {
   "metadata": {
    "ExecuteTime": {
     "end_time": "2024-04-26T18:02:14.818658Z",
     "start_time": "2024-04-26T18:02:14.812796Z"
    }
   },
   "cell_type": "code",
   "source": [
    "def training_loop(n_epochs, model, optimizer, criterion, train_loader, val_loader):\n",
    "    train_losses = []\n",
    "    val_losses = []\n",
    "    for epoch in range(n_epochs):\n",
    "        loss_train = 0.0\n",
    "        for data, labels in train_loader:\n",
    "            data, labels = data.to(device), labels.to(device)\n",
    "            optimizer.zero_grad()\n",
    "            outputs = model(data)\n",
    "            loss = criterion(outputs, labels)\n",
    "            loss.backward()\n",
    "            optimizer.step()\n",
    "            loss_train += loss.item()\n",
    "        \n",
    "        avg_loss_train = loss_train / len(train_loader)\n",
    "        train_losses.append(avg_loss_train)\n",
    "        \n",
    "        loss_val = 0.0\n",
    "        with torch.no_grad():\n",
    "            for val_data, val_labels in val_loader:\n",
    "                val_data, val_labels = val_data.to(device), val_labels.to(device)\n",
    "                val_outputs = model(val_data)\n",
    "                loss_val += criterion(val_outputs, val_labels).item()\n",
    "            avg_loss_val = loss_val / len(val_loader)\n",
    "            val_losses.append(avg_loss_val)\n",
    "\n",
    "        print('{} Epoch {}, Training loss: {:.4f}'.format(datetime.datetime.now(), epoch + 1, avg_loss_train))\n",
    "        print('{} Epoch {}, Validation loss: {:.4f}'.format(datetime.datetime.now(), epoch + 1, avg_loss_val))\n",
    "\n",
    "    return train_losses, val_losses"
   ],
   "id": "e42ec579f990f412",
   "outputs": [],
   "execution_count": 77
  },
  {
   "metadata": {
    "ExecuteTime": {
     "end_time": "2024-04-26T18:02:15.144116Z",
     "start_time": "2024-04-26T18:02:15.140496Z"
    }
   },
   "cell_type": "code",
   "source": [
    "def plot_losses(train_losses, val_losses):\n",
    "    plt.plot(train_losses, label='Training loss')\n",
    "    plt.plot(val_losses, label='Validation loss')\n",
    "    plt.xlabel('Epochs')\n",
    "    plt.ylabel('Loss')\n",
    "    plt.title('Training and Validation Loss')\n",
    "    plt.legend()\n",
    "    plt.show()"
   ],
   "id": "448ec2df17e27a39",
   "outputs": [],
   "execution_count": 78
  },
  {
   "metadata": {
    "ExecuteTime": {
     "end_time": "2024-04-26T18:02:16.812440Z",
     "start_time": "2024-04-26T18:02:16.808006Z"
    }
   },
   "cell_type": "code",
   "source": [
    "def evaluate_model(model, data_loader):\n",
    "    loss = 0.0\n",
    "    correct = 0.0\n",
    "    total = 0.0\n",
    "\n",
    "    model.eval()\n",
    "    with torch.no_grad():\n",
    "        for data, labels in data_loader:\n",
    "            data, labels = data.to(device), labels.to(device)\n",
    "            output = model(data)\n",
    "            loss += criterion(output, labels).item()\n",
    "            _, predicted = torch.max(output.data, 1)\n",
    "            total += labels.size(0)\n",
    "            correct += (predicted == labels).sum().item()\n",
    "\n",
    "    avg_loss = loss / len(data_loader)\n",
    "    accuracy = 100 * correct / total\n",
    "\n",
    "    return avg_loss, accuracy"
   ],
   "id": "6bc78d801e7c4c7",
   "outputs": [],
   "execution_count": 79
  },
  {
   "metadata": {
    "ExecuteTime": {
     "end_time": "2024-04-26T18:06:30.740490Z",
     "start_time": "2024-04-26T18:06:30.735371Z"
    }
   },
   "cell_type": "code",
   "source": [
    "n_epochs = 30\n",
    "batch_size = 64\n",
    "learning_rate = 0.005\n",
    "\n",
    "model = DenseNet(dropout=0.0)\n",
    "criterion = nn.CrossEntropyLoss()\n",
    "optimizer = optim.Adam(model.parameters(), lr=learning_rate)"
   ],
   "id": "67fb3bb412025b19",
   "outputs": [],
   "execution_count": 98
  },
  {
   "metadata": {},
   "cell_type": "code",
   "source": "train_losses, val_losses = training_loop(n_epochs, model, optimizer, criterion, train_loader, val_loader)",
   "id": "ac62b0e0343d9497",
   "outputs": [],
   "execution_count": null
  },
  {
   "metadata": {},
   "cell_type": "code",
   "source": "plot_losses(train_losses, val_losses)",
   "id": "89ae06bd0320ae56",
   "outputs": [],
   "execution_count": null
  },
  {
   "metadata": {},
   "cell_type": "code",
   "source": "evaluate_model(model, val_loader)",
   "id": "bb2ba1991a1eba74",
   "outputs": [],
   "execution_count": null
  }
 ],
 "metadata": {
  "kernelspec": {
   "display_name": "Python 3",
   "language": "python",
   "name": "python3"
  },
  "language_info": {
   "codemirror_mode": {
    "name": "ipython",
    "version": 2
   },
   "file_extension": ".py",
   "mimetype": "text/x-python",
   "name": "python",
   "nbconvert_exporter": "python",
   "pygments_lexer": "ipython2",
   "version": "2.7.6"
  }
 },
 "nbformat": 4,
 "nbformat_minor": 5
}
