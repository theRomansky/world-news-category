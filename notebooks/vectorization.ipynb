{
 "cells": [
  {
   "cell_type": "code",
   "id": "initial_id",
   "metadata": {
    "collapsed": true,
    "ExecuteTime": {
     "end_time": "2024-05-02T16:30:05.421137Z",
     "start_time": "2024-05-02T16:30:05.418577Z"
    }
   },
   "source": [
    "import numpy as np\n",
    "import pickle\n",
    "from gensim.models.doc2vec import Doc2Vec, TaggedDocument\n",
    "from sklearn.feature_extraction.text import TfidfVectorizer"
   ],
   "outputs": [],
   "execution_count": 43
  },
  {
   "metadata": {
    "ExecuteTime": {
     "end_time": "2024-05-02T16:30:05.623331Z",
     "start_time": "2024-05-02T16:30:05.432217Z"
    }
   },
   "cell_type": "code",
   "source": [
    "with open('../data/processed_corpus.pkl', 'rb') as f:\n",
    "    processed_corpus = pickle.load(f)"
   ],
   "id": "b5b3e1be888d6c21",
   "outputs": [],
   "execution_count": 44
  },
  {
   "metadata": {},
   "cell_type": "markdown",
   "source": "## Embedding",
   "id": "50b14c5f64efdaf"
  },
  {
   "metadata": {
    "ExecuteTime": {
     "end_time": "2024-05-02T16:30:06.005682Z",
     "start_time": "2024-05-02T16:30:05.624323Z"
    }
   },
   "cell_type": "code",
   "source": "tagged_data = [TaggedDocument(words=lemmas, tags=[str(i)]) for i, lemmas in enumerate(processed_corpus)]",
   "id": "58af9ecbb69044e9",
   "outputs": [],
   "execution_count": 45
  },
  {
   "metadata": {
    "ExecuteTime": {
     "end_time": "2024-05-02T16:31:17.273780Z",
     "start_time": "2024-05-02T16:30:06.006332Z"
    }
   },
   "cell_type": "code",
   "source": [
    "model = Doc2Vec(vector_size=100, min_count=5, epochs=20)\n",
    "model.build_vocab(tagged_data)\n",
    "model.train(tagged_data, total_examples=model.corpus_count, epochs=model.epochs)"
   ],
   "id": "c640a0da56428ab6",
   "outputs": [],
   "execution_count": 46
  },
  {
   "metadata": {
    "ExecuteTime": {
     "end_time": "2024-05-02T16:32:16.819591Z",
     "start_time": "2024-05-02T16:31:17.275169Z"
    }
   },
   "cell_type": "code",
   "source": [
    "vectors = [model.infer_vector(document) for document in processed_corpus]\n",
    "vectors_np = np.array(vectors)"
   ],
   "id": "8da4782069c2f5d5",
   "outputs": [],
   "execution_count": 47
  },
  {
   "metadata": {
    "ExecuteTime": {
     "end_time": "2024-05-02T16:32:16.841195Z",
     "start_time": "2024-05-02T16:32:16.820491Z"
    }
   },
   "cell_type": "code",
   "source": [
    "with open('../data/vectors.pkl', 'wb') as f:\n",
    "    pickle.dump(vectors_np, f)"
   ],
   "id": "f69cd0dbb6efdfb6",
   "outputs": [],
   "execution_count": 48
  },
  {
   "metadata": {},
   "cell_type": "markdown",
   "source": "## TF-IDF",
   "id": "eedadef52b11e3ff"
  },
  {
   "metadata": {
    "ExecuteTime": {
     "end_time": "2024-05-02T16:32:16.893478Z",
     "start_time": "2024-05-02T16:32:16.842053Z"
    }
   },
   "cell_type": "code",
   "source": "processed_corpus_joined = [' '.join(doc) for doc in processed_corpus]",
   "id": "a70ca67f53f7af74",
   "outputs": [],
   "execution_count": 49
  },
  {
   "metadata": {
    "ExecuteTime": {
     "end_time": "2024-05-02T16:32:21.840622Z",
     "start_time": "2024-05-02T16:32:16.894419Z"
    }
   },
   "cell_type": "code",
   "source": [
    "tfidf_vectorizer = TfidfVectorizer(max_features=15000, ngram_range=(1, 2))\n",
    "tfidf_matrix = tfidf_vectorizer.fit_transform(processed_corpus_joined)"
   ],
   "id": "d012568830a07665",
   "outputs": [],
   "execution_count": 50
  },
  {
   "metadata": {
    "ExecuteTime": {
     "end_time": "2024-05-02T16:32:23.502347Z",
     "start_time": "2024-05-02T16:32:21.841551Z"
    }
   },
   "cell_type": "code",
   "source": "tfidf_matrix = tfidf_matrix.toarray()",
   "id": "df55f4fdf4825051",
   "outputs": [],
   "execution_count": 51
  },
  {
   "metadata": {
    "ExecuteTime": {
     "end_time": "2024-05-02T16:32:35.132650Z",
     "start_time": "2024-05-02T16:32:23.503470Z"
    }
   },
   "cell_type": "code",
   "source": [
    "with open(\"../data/tfidf_matrix.pkl\", \"wb\") as f:\n",
    "    pickle.dump(tfidf_matrix, f)"
   ],
   "id": "2f10e9a6dc8217d7",
   "outputs": [],
   "execution_count": 52
  }
 ],
 "metadata": {
  "kernelspec": {
   "display_name": "Python 3",
   "language": "python",
   "name": "python3"
  },
  "language_info": {
   "codemirror_mode": {
    "name": "ipython",
    "version": 2
   },
   "file_extension": ".py",
   "mimetype": "text/x-python",
   "name": "python",
   "nbconvert_exporter": "python",
   "pygments_lexer": "ipython2",
   "version": "2.7.6"
  }
 },
 "nbformat": 4,
 "nbformat_minor": 5
}
