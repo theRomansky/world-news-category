{
 "cells": [
  {
   "cell_type": "code",
   "id": "initial_id",
   "metadata": {
    "collapsed": true,
    "ExecuteTime": {
     "end_time": "2024-05-03T18:20:28.570874Z",
     "start_time": "2024-05-03T18:20:28.402457Z"
    }
   },
   "source": [
    "import numpy as np\n",
    "import pickle\n",
    "from gensim.models.doc2vec import Doc2Vec, TaggedDocument\n",
    "from sklearn.feature_extraction.text import TfidfVectorizer"
   ],
   "outputs": [],
   "execution_count": 1
  },
  {
   "metadata": {
    "ExecuteTime": {
     "end_time": "2024-05-03T18:20:28.833695Z",
     "start_time": "2024-05-03T18:20:28.571786Z"
    }
   },
   "cell_type": "code",
   "source": [
    "# Load the processed corpus from the pickle file\n",
    "with open('../data/processed_corpus.pkl', 'rb') as f:\n",
    "    processed_corpus = pickle.load(f)"
   ],
   "id": "b5b3e1be888d6c21",
   "outputs": [],
   "execution_count": 2
  },
  {
   "metadata": {},
   "cell_type": "markdown",
   "source": "## Embedding",
   "id": "50b14c5f64efdaf"
  },
  {
   "metadata": {
    "ExecuteTime": {
     "end_time": "2024-05-03T18:20:29.130809Z",
     "start_time": "2024-05-03T18:20:28.834452Z"
    }
   },
   "cell_type": "code",
   "source": [
    "# Create tagged data for Doc2Vec training\n",
    "tagged_data = [TaggedDocument(words=lemmas, tags=[str(i)]) for i, lemmas in enumerate(processed_corpus)]"
   ],
   "id": "58af9ecbb69044e9",
   "outputs": [],
   "execution_count": 3
  },
  {
   "metadata": {
    "ExecuteTime": {
     "end_time": "2024-05-03T18:21:36.683245Z",
     "start_time": "2024-05-03T18:20:29.131580Z"
    }
   },
   "cell_type": "code",
   "source": [
    "# Initialize and train Doc2Vec model\n",
    "model = Doc2Vec(vector_size=100, min_count=5, epochs=20)\n",
    "model.build_vocab(tagged_data)\n",
    "model.train(tagged_data, total_examples=model.corpus_count, epochs=model.epochs)"
   ],
   "id": "c640a0da56428ab6",
   "outputs": [],
   "execution_count": 4
  },
  {
   "metadata": {
    "ExecuteTime": {
     "end_time": "2024-05-03T18:22:29.294126Z",
     "start_time": "2024-05-03T18:21:36.684069Z"
    }
   },
   "cell_type": "code",
   "source": [
    "# Generate vectors for documents using the trained Doc2Vec model\n",
    "vectors = [model.infer_vector(document) for document in processed_corpus]\n",
    "# Convert vectors to numpy array\n",
    "vectors_np = np.array(vectors)"
   ],
   "id": "8da4782069c2f5d5",
   "outputs": [],
   "execution_count": 5
  },
  {
   "metadata": {
    "ExecuteTime": {
     "end_time": "2024-05-03T18:22:29.340566Z",
     "start_time": "2024-05-03T18:22:29.294993Z"
    }
   },
   "cell_type": "code",
   "source": [
    "# Save the vectors to a pickle file\n",
    "with open('../data/vectors.pkl', 'wb') as f:\n",
    "    pickle.dump(vectors_np, f)"
   ],
   "id": "f69cd0dbb6efdfb6",
   "outputs": [],
   "execution_count": 6
  },
  {
   "metadata": {},
   "cell_type": "markdown",
   "source": "## TF-IDF",
   "id": "eedadef52b11e3ff"
  },
  {
   "metadata": {
    "ExecuteTime": {
     "end_time": "2024-05-03T18:22:29.389375Z",
     "start_time": "2024-05-03T18:22:29.341442Z"
    }
   },
   "cell_type": "code",
   "source": [
    "# Join the processed corpus into a single string for each document\n",
    "processed_corpus_joined = [' '.join(doc) for doc in processed_corpus]"
   ],
   "id": "a70ca67f53f7af74",
   "outputs": [],
   "execution_count": 7
  },
  {
   "metadata": {
    "ExecuteTime": {
     "end_time": "2024-05-03T18:22:33.447990Z",
     "start_time": "2024-05-03T18:22:29.390179Z"
    }
   },
   "cell_type": "code",
   "source": [
    "# Initialize the TF-IDF vectorizer with specified parameters\n",
    "tfidf_vectorizer = TfidfVectorizer(max_features=15000, ngram_range=(1, 2))\n",
    "\n",
    "# Fit the vectorizer to the processed corpus and transform it into TF-IDF matrix\n",
    "tfidf_matrix = tfidf_vectorizer.fit_transform(processed_corpus_joined)"
   ],
   "id": "d012568830a07665",
   "outputs": [],
   "execution_count": 8
  },
  {
   "metadata": {
    "ExecuteTime": {
     "end_time": "2024-05-03T18:22:35.244771Z",
     "start_time": "2024-05-03T18:22:33.448767Z"
    }
   },
   "cell_type": "code",
   "source": [
    "# Convert the TF-IDF matrix to a dense NumPy array\n",
    "tfidf_matrix = tfidf_matrix.toarray()"
   ],
   "id": "df55f4fdf4825051",
   "outputs": [],
   "execution_count": 9
  },
  {
   "metadata": {
    "ExecuteTime": {
     "end_time": "2024-05-03T18:22:46.658218Z",
     "start_time": "2024-05-03T18:22:35.247298Z"
    }
   },
   "cell_type": "code",
   "source": [
    "# Save the TF-IDF matrix to a pickle file\n",
    "with open(\"../data/tfidf_matrix.pkl\", \"wb\") as f:\n",
    "    pickle.dump(tfidf_matrix, f)"
   ],
   "id": "2f10e9a6dc8217d7",
   "outputs": [],
   "execution_count": 10
  }
 ],
 "metadata": {
  "kernelspec": {
   "display_name": "Python 3",
   "language": "python",
   "name": "python3"
  },
  "language_info": {
   "codemirror_mode": {
    "name": "ipython",
    "version": 2
   },
   "file_extension": ".py",
   "mimetype": "text/x-python",
   "name": "python",
   "nbconvert_exporter": "python",
   "pygments_lexer": "ipython2",
   "version": "2.7.6"
  }
 },
 "nbformat": 4,
 "nbformat_minor": 5
}
