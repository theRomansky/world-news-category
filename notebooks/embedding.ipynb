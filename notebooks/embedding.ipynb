{
 "cells": [
  {
   "cell_type": "code",
   "id": "initial_id",
   "metadata": {
    "collapsed": true,
    "ExecuteTime": {
     "end_time": "2024-04-25T18:33:24.238116Z",
     "start_time": "2024-04-25T18:33:23.429314Z"
    }
   },
   "source": [
    "import numpy as np\n",
    "import pickle\n",
    "from gensim.models.doc2vec import Doc2Vec, TaggedDocument"
   ],
   "outputs": [],
   "execution_count": 31
  },
  {
   "metadata": {
    "ExecuteTime": {
     "end_time": "2024-04-25T18:30:44.166536Z",
     "start_time": "2024-04-25T18:30:44.031494Z"
    }
   },
   "cell_type": "code",
   "source": [
    "with open('../data/processed_corpus.pkl', 'rb') as f:\n",
    "    processed_corpus = pickle.load(f)"
   ],
   "id": "b5b3e1be888d6c21",
   "outputs": [],
   "execution_count": 25
  },
  {
   "metadata": {
    "ExecuteTime": {
     "end_time": "2024-04-25T17:39:20.034023Z",
     "start_time": "2024-04-25T17:39:19.695743Z"
    }
   },
   "cell_type": "code",
   "source": "tagged_data = [TaggedDocument(words=lemmas, tags=[str(i)]) for i, lemmas in enumerate(processed_corpus)]",
   "id": "58af9ecbb69044e9",
   "outputs": [],
   "execution_count": 12
  },
  {
   "metadata": {
    "ExecuteTime": {
     "end_time": "2024-04-25T17:40:25.747253Z",
     "start_time": "2024-04-25T17:39:22.746083Z"
    }
   },
   "cell_type": "code",
   "source": [
    "model = Doc2Vec(vector_size=100, min_count=5, epochs=20)\n",
    "model.build_vocab(tagged_data)\n",
    "model.train(tagged_data, total_examples=model.corpus_count, epochs=model.epochs)"
   ],
   "id": "c640a0da56428ab6",
   "outputs": [],
   "execution_count": 13
  },
  {
   "metadata": {
    "ExecuteTime": {
     "end_time": "2024-04-25T17:56:42.231943Z",
     "start_time": "2024-04-25T17:55:56.855414Z"
    }
   },
   "cell_type": "code",
   "source": [
    "vectors = [model.infer_vector(document) for document in processed_corpus]\n",
    "vectors_np = np.array(vectors)"
   ],
   "id": "8da4782069c2f5d5",
   "outputs": [],
   "execution_count": 14
  },
  {
   "metadata": {
    "ExecuteTime": {
     "end_time": "2024-04-25T18:38:32.417043Z",
     "start_time": "2024-04-25T18:38:32.392387Z"
    }
   },
   "cell_type": "code",
   "source": [
    "with open('../data/vectors.pkl', 'wb') as f:\n",
    "    pickle.dump(vectors_np, f)"
   ],
   "id": "f69cd0dbb6efdfb6",
   "outputs": [],
   "execution_count": 35
  }
 ],
 "metadata": {
  "kernelspec": {
   "display_name": "Python 3",
   "language": "python",
   "name": "python3"
  },
  "language_info": {
   "codemirror_mode": {
    "name": "ipython",
    "version": 2
   },
   "file_extension": ".py",
   "mimetype": "text/x-python",
   "name": "python",
   "nbconvert_exporter": "python",
   "pygments_lexer": "ipython2",
   "version": "2.7.6"
  }
 },
 "nbformat": 4,
 "nbformat_minor": 5
}
