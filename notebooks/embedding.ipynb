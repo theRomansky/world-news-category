{
 "cells": [
  {
   "cell_type": "code",
   "id": "initial_id",
   "metadata": {
    "collapsed": true,
    "ExecuteTime": {
     "end_time": "2024-04-27T13:43:30.652870Z",
     "start_time": "2024-04-27T13:43:30.649367Z"
    }
   },
   "source": [
    "import numpy as np\n",
    "import pickle\n",
    "from gensim.models.doc2vec import Doc2Vec, TaggedDocument"
   ],
   "outputs": [],
   "execution_count": 7
  },
  {
   "metadata": {
    "ExecuteTime": {
     "end_time": "2024-04-27T13:43:31.311831Z",
     "start_time": "2024-04-27T13:43:30.984324Z"
    }
   },
   "cell_type": "code",
   "source": [
    "with open('../data/processed_corpus.pkl', 'rb') as f:\n",
    "    processed_corpus = pickle.load(f)"
   ],
   "id": "b5b3e1be888d6c21",
   "outputs": [],
   "execution_count": 8
  },
  {
   "metadata": {
    "ExecuteTime": {
     "end_time": "2024-04-27T13:43:31.790920Z",
     "start_time": "2024-04-27T13:43:31.489181Z"
    }
   },
   "cell_type": "code",
   "source": "tagged_data = [TaggedDocument(words=lemmas, tags=[str(i)]) for i, lemmas in enumerate(processed_corpus)]",
   "id": "58af9ecbb69044e9",
   "outputs": [],
   "execution_count": 9
  },
  {
   "metadata": {
    "ExecuteTime": {
     "end_time": "2024-04-27T13:44:41.922877Z",
     "start_time": "2024-04-27T13:43:31.792055Z"
    }
   },
   "cell_type": "code",
   "source": [
    "model = Doc2Vec(vector_size=100, min_count=5, epochs=20)\n",
    "model.build_vocab(tagged_data)\n",
    "model.train(tagged_data, total_examples=model.corpus_count, epochs=model.epochs)"
   ],
   "id": "c640a0da56428ab6",
   "outputs": [],
   "execution_count": 10
  },
  {
   "metadata": {
    "ExecuteTime": {
     "end_time": "2024-04-27T13:45:37.272010Z",
     "start_time": "2024-04-27T13:44:41.923982Z"
    }
   },
   "cell_type": "code",
   "source": [
    "vectors = [model.infer_vector(document) for document in processed_corpus]\n",
    "vectors_np = np.array(vectors)"
   ],
   "id": "8da4782069c2f5d5",
   "outputs": [],
   "execution_count": 11
  },
  {
   "metadata": {
    "ExecuteTime": {
     "end_time": "2024-04-27T13:45:37.288538Z",
     "start_time": "2024-04-27T13:45:37.272809Z"
    }
   },
   "cell_type": "code",
   "source": [
    "with open('../data/vectors.pkl', 'wb') as f:\n",
    "    pickle.dump(vectors_np, f)"
   ],
   "id": "f69cd0dbb6efdfb6",
   "outputs": [],
   "execution_count": 12
  },
  {
   "metadata": {},
   "cell_type": "code",
   "outputs": [],
   "execution_count": null,
   "source": "",
   "id": "415a9d47c811e408"
  }
 ],
 "metadata": {
  "kernelspec": {
   "display_name": "Python 3",
   "language": "python",
   "name": "python3"
  },
  "language_info": {
   "codemirror_mode": {
    "name": "ipython",
    "version": 2
   },
   "file_extension": ".py",
   "mimetype": "text/x-python",
   "name": "python",
   "nbconvert_exporter": "python",
   "pygments_lexer": "ipython2",
   "version": "2.7.6"
  }
 },
 "nbformat": 4,
 "nbformat_minor": 5
}
