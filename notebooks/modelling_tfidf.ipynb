{
 "cells": [
  {
   "cell_type": "code",
   "id": "initial_id",
   "metadata": {
    "collapsed": true,
    "ExecuteTime": {
     "end_time": "2024-05-02T16:17:23.447632Z",
     "start_time": "2024-05-02T16:17:23.441495Z"
    }
   },
   "source": [
    "import matplotlib.pyplot as plt\n",
    "import seaborn as sns\n",
    "import pickle\n",
    "import datetime\n",
    "import torch\n",
    "import torch.nn as nn\n",
    "import torch.optim as optim\n",
    "from torch.utils.data import DataLoader, TensorDataset\n",
    "from sklearn.model_selection import train_test_split\n",
    "from sklearn.metrics import classification_report, confusion_matrix\n",
    "from sklearn.linear_model import LogisticRegression\n",
    "from sklearn.preprocessing import StandardScaler"
   ],
   "outputs": [],
   "execution_count": 17
  },
  {
   "metadata": {
    "ExecuteTime": {
     "end_time": "2024-05-02T16:17:27.138389Z",
     "start_time": "2024-05-02T16:17:23.763017Z"
    }
   },
   "cell_type": "code",
   "source": [
    "with open(\"../data/tfidf_matrix.pkl\", \"rb\") as f:\n",
    "    tfidf_matrix = pickle.load(f)\n",
    "    \n",
    "with open(\"../data/labels.pkl\", \"rb\") as f:\n",
    "    labels = pickle.load(f)"
   ],
   "id": "10275c55232e3e1c",
   "outputs": [],
   "execution_count": 18
  },
  {
   "metadata": {
    "jupyter": {
     "is_executing": true
    },
    "ExecuteTime": {
     "start_time": "2024-05-02T16:05:51.954646Z"
    }
   },
   "cell_type": "code",
   "source": [
    "scaler = StandardScaler()\n",
    "scaled_tfidf_matrix = scaler.fit_transform(tfidf_matrix)"
   ],
   "id": "88cf34c7b4aa07e5",
   "outputs": [],
   "execution_count": null
  },
  {
   "metadata": {
    "ExecuteTime": {
     "end_time": "2024-05-02T16:17:33.129974Z",
     "start_time": "2024-05-02T16:17:27.139541Z"
    }
   },
   "cell_type": "code",
   "source": [
    "train_data, test_val_data, train_labels, test_val_labels = train_test_split(tfidf_matrix, labels, train_size=0.7, random_state=42, shuffle=True, stratify=labels)\n",
    "\n",
    "test_data, val_data, test_labels, val_labels = train_test_split(test_val_data, test_val_labels, train_size=0.5, random_state=42, shuffle=True, stratify=test_val_labels)"
   ],
   "id": "aa416b7ebb0353f3",
   "outputs": [],
   "execution_count": 19
  },
  {
   "metadata": {
    "ExecuteTime": {
     "end_time": "2024-05-02T16:17:33.136932Z",
     "start_time": "2024-05-02T16:17:33.132668Z"
    }
   },
   "cell_type": "code",
   "source": [
    "train_data_tensor = torch.from_numpy(train_data)\n",
    "val_data_tensor = torch.from_numpy(val_data)\n",
    "test_data_tensor = torch.from_numpy(test_data)\n",
    "train_labels_tensor = torch.from_numpy(train_labels)\n",
    "val_labels_tensor = torch.from_numpy(val_labels)\n",
    "test_labels_tensor = torch.from_numpy(test_labels)"
   ],
   "id": "29b7d120ae1fe310",
   "outputs": [],
   "execution_count": 20
  },
  {
   "metadata": {
    "ExecuteTime": {
     "end_time": "2024-05-02T16:17:33.205926Z",
     "start_time": "2024-05-02T16:17:33.137807Z"
    }
   },
   "cell_type": "code",
   "source": [
    "train_dataset = TensorDataset(train_data_tensor, train_labels_tensor)\n",
    "val_dataset = TensorDataset(val_data_tensor, val_labels_tensor)\n",
    "test_dataset = TensorDataset(test_data_tensor, test_labels_tensor)\n",
    "\n",
    "train_loader = DataLoader(train_dataset, batch_size=64, shuffle=True)\n",
    "val_loader = DataLoader(val_dataset, batch_size=64)\n",
    "test_loader = DataLoader(test_dataset, batch_size=64)"
   ],
   "id": "2acd880250215959",
   "outputs": [],
   "execution_count": 21
  },
  {
   "metadata": {},
   "cell_type": "markdown",
   "source": "## Logistic Regression",
   "id": "30b1654afa744dad"
  },
  {
   "metadata": {
    "ExecuteTime": {
     "end_time": "2024-05-02T16:19:24.059249Z",
     "start_time": "2024-05-02T16:17:33.207716Z"
    }
   },
   "cell_type": "code",
   "source": [
    "logreg = LogisticRegression(max_iter=1000)\n",
    "logreg.fit(train_data, train_labels)\n",
    "predictions = logreg.predict(test_data)"
   ],
   "id": "1637aa71354b729b",
   "outputs": [],
   "execution_count": 22
  },
  {
   "metadata": {
    "ExecuteTime": {
     "end_time": "2024-05-02T16:19:24.128724Z",
     "start_time": "2024-05-02T16:19:24.079486Z"
    }
   },
   "cell_type": "code",
   "source": "print(classification_report(test_labels, predictions))",
   "id": "2becd22e363f6bd2",
   "outputs": [
    {
     "name": "stdout",
     "output_type": "stream",
     "text": [
      "              precision    recall  f1-score   support\n",
      "\n",
      "           0       0.89      0.90      0.89      7944\n",
      "           1       0.87      0.89      0.88      5771\n",
      "           2       0.81      0.78      0.80      4965\n",
      "\n",
      "    accuracy                           0.86     18680\n",
      "   macro avg       0.86      0.86      0.86     18680\n",
      "weighted avg       0.86      0.86      0.86     18680\n",
      "\n"
     ]
    }
   ],
   "execution_count": 23
  },
  {
   "metadata": {
    "jupyter": {
     "is_executing": true
    }
   },
   "cell_type": "code",
   "source": "",
   "id": "c9db69c9dc2bbe7c",
   "outputs": [],
   "execution_count": null
  }
 ],
 "metadata": {
  "kernelspec": {
   "display_name": "Python 3",
   "language": "python",
   "name": "python3"
  },
  "language_info": {
   "codemirror_mode": {
    "name": "ipython",
    "version": 2
   },
   "file_extension": ".py",
   "mimetype": "text/x-python",
   "name": "python",
   "nbconvert_exporter": "python",
   "pygments_lexer": "ipython2",
   "version": "2.7.6"
  }
 },
 "nbformat": 4,
 "nbformat_minor": 5
}
